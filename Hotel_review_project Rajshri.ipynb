{
 "cells": [
  {
   "cell_type": "markdown",
   "id": "1d73ad72",
   "metadata": {
    "id": "1d73ad72"
   },
   "source": [
    "## **1.Import Necessary Libraries**"
   ]
  },
  {
   "cell_type": "code",
   "execution_count": 1,
   "id": "6cc0c4d4",
   "metadata": {
    "colab": {
     "base_uri": "https://localhost:8080/"
    },
    "id": "6cc0c4d4",
    "outputId": "1c19d77f-94c7-46f9-a7f3-116b07e3b473"
   },
   "outputs": [
    {
     "name": "stderr",
     "output_type": "stream",
     "text": [
      "[nltk_data] Error loading stopwords: <urlopen error [WinError 10060] A\n",
      "[nltk_data]     connection attempt failed because the connected party\n",
      "[nltk_data]     did not properly respond after a period of time, or\n",
      "[nltk_data]     established connection failed because connected host\n",
      "[nltk_data]     has failed to respond>\n",
      "WARNING: Ignoring invalid distribution -tatsmodels (c:\\users\\aravind\\anaconda3\\lib\\site-packages)\n",
      "WARNING: Ignoring invalid distribution -tatsmodels (c:\\users\\aravind\\anaconda3\\lib\\site-packages)\n",
      "WARNING: Ignoring invalid distribution -tatsmodels (c:\\users\\aravind\\anaconda3\\lib\\site-packages)\n",
      "WARNING: Ignoring invalid distribution -tatsmodels (c:\\users\\aravind\\anaconda3\\lib\\site-packages)\n",
      "WARNING: Ignoring invalid distribution -tatsmodels (c:\\users\\aravind\\anaconda3\\lib\\site-packages)\n",
      "WARNING: Ignoring invalid distribution -tatsmodels (c:\\users\\aravind\\anaconda3\\lib\\site-packages)\n"
     ]
    },
    {
     "name": "stdout",
     "output_type": "stream",
     "text": [
      "Requirement already satisfied: category_encoders in c:\\users\\aravind\\anaconda3\\lib\\site-packages (2.5.1.post0)\n",
      "Requirement already satisfied: scipy>=1.0.0 in c:\\users\\aravind\\anaconda3\\lib\\site-packages (from category_encoders) (1.7.3)\n",
      "Requirement already satisfied: numpy>=1.14.0 in c:\\users\\aravind\\anaconda3\\lib\\site-packages (from category_encoders) (1.21.5)\n",
      "Requirement already satisfied: scikit-learn>=0.20.0 in c:\\users\\aravind\\anaconda3\\lib\\site-packages (from category_encoders) (1.1.3)\n",
      "Requirement already satisfied: statsmodels>=0.9.0 in c:\\users\\aravind\\anaconda3\\lib\\site-packages (from category_encoders) (0.13.2)\n",
      "Requirement already satisfied: pandas>=1.0.5 in c:\\users\\aravind\\anaconda3\\lib\\site-packages (from category_encoders) (1.5.0)\n",
      "Requirement already satisfied: patsy>=0.5.1 in c:\\users\\aravind\\anaconda3\\lib\\site-packages (from category_encoders) (0.5.2)\n",
      "Requirement already satisfied: pytz>=2020.1 in c:\\users\\aravind\\anaconda3\\lib\\site-packages (from pandas>=1.0.5->category_encoders) (2021.3)\n",
      "Requirement already satisfied: python-dateutil>=2.8.1 in c:\\users\\aravind\\anaconda3\\lib\\site-packages (from pandas>=1.0.5->category_encoders) (2.8.2)\n",
      "Requirement already satisfied: six in c:\\users\\aravind\\anaconda3\\lib\\site-packages (from patsy>=0.5.1->category_encoders) (1.16.0)\n",
      "Requirement already satisfied: threadpoolctl>=2.0.0 in c:\\users\\aravind\\anaconda3\\lib\\site-packages (from scikit-learn>=0.20.0->category_encoders) (2.2.0)\n",
      "Requirement already satisfied: joblib>=1.0.0 in c:\\users\\aravind\\anaconda3\\lib\\site-packages (from scikit-learn>=0.20.0->category_encoders) (1.1.0)\n",
      "Requirement already satisfied: packaging>=21.3 in c:\\users\\aravind\\anaconda3\\lib\\site-packages (from statsmodels>=0.9.0->category_encoders) (21.3)\n",
      "Requirement already satisfied: pyparsing!=3.0.5,>=2.0.2 in c:\\users\\aravind\\anaconda3\\lib\\site-packages (from packaging>=21.3->statsmodels>=0.9.0->category_encoders) (3.0.4)\n"
     ]
    },
    {
     "name": "stderr",
     "output_type": "stream",
     "text": [
      "[nltk_data] Error loading stopwords: <urlopen error [WinError 10060] A\n",
      "[nltk_data]     connection attempt failed because the connected party\n",
      "[nltk_data]     did not properly respond after a period of time, or\n",
      "[nltk_data]     established connection failed because connected host\n",
      "[nltk_data]     has failed to respond>\n",
      "[nltk_data] Error loading wordnet: <urlopen error [WinError 10060] A\n",
      "[nltk_data]     connection attempt failed because the connected party\n",
      "[nltk_data]     did not properly respond after a period of time, or\n",
      "[nltk_data]     established connection failed because connected host\n",
      "[nltk_data]     has failed to respond>\n",
      "[nltk_data] Error loading omw-1.4: <urlopen error [WinError 10060] A\n",
      "[nltk_data]     connection attempt failed because the connected party\n",
      "[nltk_data]     did not properly respond after a period of time, or\n",
      "[nltk_data]     established connection failed because connected host\n",
      "[nltk_data]     has failed to respond>\n",
      "[nltk_data] Error loading punkt: <urlopen error [WinError 10060] A\n",
      "[nltk_data]     connection attempt failed because the connected party\n",
      "[nltk_data]     did not properly respond after a period of time, or\n",
      "[nltk_data]     established connection failed because connected host\n",
      "[nltk_data]     has failed to respond>\n"
     ]
    },
    {
     "name": "stdout",
     "output_type": "stream",
     "text": [
      "Requirement already satisfied: vaderSentiment in c:\\users\\aravind\\anaconda3\\lib\\site-packages (3.3.2)"
     ]
    },
    {
     "name": "stderr",
     "output_type": "stream",
     "text": [
      "WARNING: Ignoring invalid distribution -tatsmodels (c:\\users\\aravind\\anaconda3\\lib\\site-packages)\n",
      "WARNING: Ignoring invalid distribution -tatsmodels (c:\\users\\aravind\\anaconda3\\lib\\site-packages)\n",
      "WARNING: Ignoring invalid distribution -tatsmodels (c:\\users\\aravind\\anaconda3\\lib\\site-packages)\n",
      "WARNING: Ignoring invalid distribution -tatsmodels (c:\\users\\aravind\\anaconda3\\lib\\site-packages)\n",
      "WARNING: Ignoring invalid distribution -tatsmodels (c:\\users\\aravind\\anaconda3\\lib\\site-packages)\n",
      "WARNING: Ignoring invalid distribution -tatsmodels (c:\\users\\aravind\\anaconda3\\lib\\site-packages)\n"
     ]
    },
    {
     "name": "stdout",
     "output_type": "stream",
     "text": [
      "\n",
      "Requirement already satisfied: requests in c:\\users\\aravind\\anaconda3\\lib\\site-packages (from vaderSentiment) (2.27.1)\n",
      "Requirement already satisfied: urllib3<1.27,>=1.21.1 in c:\\users\\aravind\\anaconda3\\lib\\site-packages (from requests->vaderSentiment) (1.26.9)\n",
      "Requirement already satisfied: charset-normalizer~=2.0.0 in c:\\users\\aravind\\anaconda3\\lib\\site-packages (from requests->vaderSentiment) (2.0.4)\n",
      "Requirement already satisfied: idna<4,>=2.5 in c:\\users\\aravind\\anaconda3\\lib\\site-packages (from requests->vaderSentiment) (3.3)\n",
      "Requirement already satisfied: certifi>=2017.4.17 in c:\\users\\aravind\\anaconda3\\lib\\site-packages (from requests->vaderSentiment) (2021.10.8)\n"
     ]
    }
   ],
   "source": [
    "import pandas as pd\n",
    "import numpy as np\n",
    "import seaborn as sns\n",
    "import matplotlib.pyplot as plt\n",
    "%matplotlib inline\n",
    "from wordcloud import WordCloud\n",
    "import re\n",
    "import string\n",
    "import nltk\n",
    "nltk.download('stopwords')\n",
    "from nltk.corpus import stopwords\n",
    "from nltk.stem.wordnet import WordNetLemmatizer\n",
    "from nltk import word_tokenize\n",
    "\n",
    "import gensim\n",
    "import gensim.corpora as corpora\n",
    "from gensim.utils import simple_preprocess\n",
    "from gensim.models import CoherenceModel\n",
    "\n",
    "\n",
    "from sklearn.preprocessing import LabelEncoder, StandardScaler, MinMaxScaler, RobustScaler\n",
    "\n",
    "!pip install category_encoders\n",
    "import category_encoders as ce\n",
    "\n",
    "# Imbalanced-Learn Library\n",
    "#!pip install imblearn\n",
    "from imblearn.over_sampling import SMOTE, BorderlineSMOTE, SVMSMOTE, ADASYN, SMOTENC, RandomOverSampler\n",
    "from imblearn.combine import SMOTETomek, SMOTEENN\n",
    "\n",
    "from sklearn.model_selection import train_test_split\n",
    "\n",
    "# Random Forest Classifier\n",
    "from sklearn.ensemble import RandomForestClassifier\n",
    "#Logistic Regression\n",
    "from sklearn.linear_model import LogisticRegression\n",
    "#Decision Tree\n",
    "from sklearn.tree import DecisionTreeClassifier\n",
    "from sklearn.naive_bayes import GaussianNB\n",
    "from sklearn.svm import LinearSVC\n",
    "from sklearn.neighbors import KNeighborsClassifier\n",
    "from sklearn.ensemble import AdaBoostClassifier\n",
    "from sklearn.model_selection import GridSearchCV, RandomizedSearchCV\n",
    "from sklearn.model_selection import ShuffleSplit\n",
    "import lightgbm as lgb\n",
    "from sklearn import ensemble, gaussian_process, linear_model, tree, naive_bayes, svm, discriminant_analysis, neighbors\n",
    "#!pip install xgboost\n",
    "import xgboost\n",
    "\n",
    "from xgboost import XGBClassifier\n",
    "from sklearn.model_selection import cross_val_score\n",
    "from sklearn.model_selection import RepeatedStratifiedKFold\n",
    "from collections import Counter\n",
    "#metrics\n",
    "from sklearn.metrics import recall_score, accuracy_score, precision_score, f1_score, roc_auc_score, confusion_matrix, classification_report\n",
    "\n",
    "nltk.download('stopwords')\n",
    "nltk.download('wordnet')\n",
    "\n",
    "import nltk\n",
    "nltk.download('omw-1.4')\n",
    "\n",
    "import nltk\n",
    "nltk.download('punkt')\n",
    "\n",
    "!pip install vaderSentiment\n",
    "\n",
    "import warnings\n",
    "warnings.filterwarnings(\"ignore\")"
   ]
  },
  {
   "cell_type": "markdown",
   "id": "8340b2d2",
   "metadata": {
    "id": "8340b2d2"
   },
   "source": [
    "## **2. Import Data**"
   ]
  },
  {
   "cell_type": "code",
   "execution_count": 2,
   "id": "p_twzimgzJZz",
   "metadata": {
    "id": "p_twzimgzJZz"
   },
   "outputs": [],
   "source": [
    "#from google.colab import files\n",
    "#uploaded = files.upload()"
   ]
  },
  {
   "cell_type": "code",
   "execution_count": 3,
   "id": "709a6d5c",
   "metadata": {
    "colab": {
     "base_uri": "https://localhost:8080/",
     "height": 206
    },
    "id": "709a6d5c",
    "outputId": "282697a4-1047-4216-9c71-c1ecdc27161a"
   },
   "outputs": [
    {
     "data": {
      "text/html": [
       "<div>\n",
       "<style scoped>\n",
       "    .dataframe tbody tr th:only-of-type {\n",
       "        vertical-align: middle;\n",
       "    }\n",
       "\n",
       "    .dataframe tbody tr th {\n",
       "        vertical-align: top;\n",
       "    }\n",
       "\n",
       "    .dataframe thead th {\n",
       "        text-align: right;\n",
       "    }\n",
       "</style>\n",
       "<table border=\"1\" class=\"dataframe\">\n",
       "  <thead>\n",
       "    <tr style=\"text-align: right;\">\n",
       "      <th></th>\n",
       "      <th>Review</th>\n",
       "      <th>Rating</th>\n",
       "    </tr>\n",
       "  </thead>\n",
       "  <tbody>\n",
       "    <tr>\n",
       "      <th>0</th>\n",
       "      <td>nice hotel expensive parking got good deal sta...</td>\n",
       "      <td>4</td>\n",
       "    </tr>\n",
       "    <tr>\n",
       "      <th>1</th>\n",
       "      <td>ok nothing special charge diamond member hilto...</td>\n",
       "      <td>2</td>\n",
       "    </tr>\n",
       "    <tr>\n",
       "      <th>2</th>\n",
       "      <td>nice rooms not 4* experience hotel monaco seat...</td>\n",
       "      <td>3</td>\n",
       "    </tr>\n",
       "    <tr>\n",
       "      <th>3</th>\n",
       "      <td>unique, great stay, wonderful time hotel monac...</td>\n",
       "      <td>5</td>\n",
       "    </tr>\n",
       "    <tr>\n",
       "      <th>4</th>\n",
       "      <td>great stay great stay, went seahawk game aweso...</td>\n",
       "      <td>5</td>\n",
       "    </tr>\n",
       "  </tbody>\n",
       "</table>\n",
       "</div>"
      ],
      "text/plain": [
       "                                              Review  Rating\n",
       "0  nice hotel expensive parking got good deal sta...       4\n",
       "1  ok nothing special charge diamond member hilto...       2\n",
       "2  nice rooms not 4* experience hotel monaco seat...       3\n",
       "3  unique, great stay, wonderful time hotel monac...       5\n",
       "4  great stay great stay, went seahawk game aweso...       5"
      ]
     },
     "execution_count": 3,
     "metadata": {},
     "output_type": "execute_result"
    }
   ],
   "source": [
    "df = pd.read_excel(\"hotel_reviews.xlsx\")\n",
    "df.head(5)"
   ]
  },
  {
   "cell_type": "markdown",
   "id": "530d4991",
   "metadata": {
    "id": "530d4991"
   },
   "source": [
    "## **3. Data Understanding**"
   ]
  },
  {
   "cell_type": "code",
   "execution_count": 4,
   "id": "8da623e8",
   "metadata": {
    "colab": {
     "base_uri": "https://localhost:8080/"
    },
    "id": "8da623e8",
    "outputId": "5bbf041e-7045-4896-ef7b-eee5d00faf10"
   },
   "outputs": [
    {
     "data": {
      "text/plain": [
       "(20491, 2)"
      ]
     },
     "execution_count": 4,
     "metadata": {},
     "output_type": "execute_result"
    }
   ],
   "source": [
    "df.shape"
   ]
  },
  {
   "cell_type": "code",
   "execution_count": 5,
   "id": "11090604",
   "metadata": {
    "colab": {
     "base_uri": "https://localhost:8080/"
    },
    "id": "11090604",
    "outputId": "79357b70-ec5e-4931-967d-6ee01ebb4c55"
   },
   "outputs": [
    {
     "name": "stdout",
     "output_type": "stream",
     "text": [
      "<class 'pandas.core.frame.DataFrame'>\n",
      "RangeIndex: 20491 entries, 0 to 20490\n",
      "Data columns (total 2 columns):\n",
      " #   Column  Non-Null Count  Dtype \n",
      "---  ------  --------------  ----- \n",
      " 0   Review  20491 non-null  object\n",
      " 1   Rating  20491 non-null  int64 \n",
      "dtypes: int64(1), object(1)\n",
      "memory usage: 320.3+ KB\n"
     ]
    }
   ],
   "source": [
    "df.info()"
   ]
  },
  {
   "cell_type": "code",
   "execution_count": 6,
   "id": "2bda038a",
   "metadata": {
    "colab": {
     "base_uri": "https://localhost:8080/"
    },
    "id": "2bda038a",
    "outputId": "3bdc7132-71da-49c0-c285-94f46fd20dd5"
   },
   "outputs": [
    {
     "data": {
      "text/plain": [
       "0"
      ]
     },
     "execution_count": 6,
     "metadata": {},
     "output_type": "execute_result"
    }
   ],
   "source": [
    "df.duplicated().sum()"
   ]
  },
  {
   "cell_type": "code",
   "execution_count": 7,
   "id": "0d8fc49c",
   "metadata": {
    "colab": {
     "base_uri": "https://localhost:8080/"
    },
    "id": "0d8fc49c",
    "outputId": "9cf9b4b3-7ac5-43ec-914b-b38d54576ba8"
   },
   "outputs": [
    {
     "data": {
      "text/plain": [
       "RangeIndex(start=0, stop=20491, step=1)"
      ]
     },
     "execution_count": 7,
     "metadata": {},
     "output_type": "execute_result"
    }
   ],
   "source": [
    "df.index\n"
   ]
  },
  {
   "cell_type": "code",
   "execution_count": 8,
   "id": "112b7511",
   "metadata": {
    "colab": {
     "base_uri": "https://localhost:8080/"
    },
    "id": "112b7511",
    "outputId": "fdaf1059-213d-4f24-a640-aaf583350264"
   },
   "outputs": [
    {
     "data": {
      "text/plain": [
       "Review    20491\n",
       "Rating        5\n",
       "dtype: int64"
      ]
     },
     "execution_count": 8,
     "metadata": {},
     "output_type": "execute_result"
    }
   ],
   "source": [
    "df.nunique()\n"
   ]
  },
  {
   "cell_type": "code",
   "execution_count": 9,
   "id": "df67ed4d",
   "metadata": {
    "colab": {
     "base_uri": "https://localhost:8080/",
     "height": 300
    },
    "id": "df67ed4d",
    "outputId": "b075313e-b2bb-4997-ece2-26f282e9d772"
   },
   "outputs": [
    {
     "data": {
      "text/html": [
       "<div>\n",
       "<style scoped>\n",
       "    .dataframe tbody tr th:only-of-type {\n",
       "        vertical-align: middle;\n",
       "    }\n",
       "\n",
       "    .dataframe tbody tr th {\n",
       "        vertical-align: top;\n",
       "    }\n",
       "\n",
       "    .dataframe thead th {\n",
       "        text-align: right;\n",
       "    }\n",
       "</style>\n",
       "<table border=\"1\" class=\"dataframe\">\n",
       "  <thead>\n",
       "    <tr style=\"text-align: right;\">\n",
       "      <th></th>\n",
       "      <th>Rating</th>\n",
       "    </tr>\n",
       "  </thead>\n",
       "  <tbody>\n",
       "    <tr>\n",
       "      <th>count</th>\n",
       "      <td>20491.000000</td>\n",
       "    </tr>\n",
       "    <tr>\n",
       "      <th>mean</th>\n",
       "      <td>3.952223</td>\n",
       "    </tr>\n",
       "    <tr>\n",
       "      <th>std</th>\n",
       "      <td>1.233030</td>\n",
       "    </tr>\n",
       "    <tr>\n",
       "      <th>min</th>\n",
       "      <td>1.000000</td>\n",
       "    </tr>\n",
       "    <tr>\n",
       "      <th>25%</th>\n",
       "      <td>3.000000</td>\n",
       "    </tr>\n",
       "    <tr>\n",
       "      <th>50%</th>\n",
       "      <td>4.000000</td>\n",
       "    </tr>\n",
       "    <tr>\n",
       "      <th>75%</th>\n",
       "      <td>5.000000</td>\n",
       "    </tr>\n",
       "    <tr>\n",
       "      <th>max</th>\n",
       "      <td>5.000000</td>\n",
       "    </tr>\n",
       "  </tbody>\n",
       "</table>\n",
       "</div>"
      ],
      "text/plain": [
       "             Rating\n",
       "count  20491.000000\n",
       "mean       3.952223\n",
       "std        1.233030\n",
       "min        1.000000\n",
       "25%        3.000000\n",
       "50%        4.000000\n",
       "75%        5.000000\n",
       "max        5.000000"
      ]
     },
     "execution_count": 9,
     "metadata": {},
     "output_type": "execute_result"
    }
   ],
   "source": [
    "df.describe()\n"
   ]
  },
  {
   "cell_type": "code",
   "execution_count": 10,
   "id": "a52d67e1",
   "metadata": {
    "colab": {
     "base_uri": "https://localhost:8080/"
    },
    "id": "a52d67e1",
    "outputId": "108de3a0-2391-47a3-d073-0733f0dce6f1"
   },
   "outputs": [
    {
     "data": {
      "text/plain": [
       "5    9054\n",
       "4    6039\n",
       "3    2184\n",
       "2    1793\n",
       "1    1421\n",
       "Name: Rating, dtype: int64"
      ]
     },
     "execution_count": 10,
     "metadata": {},
     "output_type": "execute_result"
    }
   ],
   "source": [
    "#Total no. of values in Rating column\n",
    "df[\"Rating\"].value_counts()"
   ]
  },
  {
   "cell_type": "markdown",
   "id": "c2f2d82c",
   "metadata": {
    "id": "c2f2d82c"
   },
   "source": [
    "##**4. EDA**"
   ]
  },
  {
   "cell_type": "code",
   "execution_count": 11,
   "id": "14b14c7f",
   "metadata": {
    "colab": {
     "base_uri": "https://localhost:8080/",
     "height": 475
    },
    "id": "14b14c7f",
    "outputId": "7bc24fb6-f3d3-4bf0-e966-360334363f37"
   },
   "outputs": [
    {
     "data": {
      "text/plain": [
       "Text(0.5, 1.0, 'Rating Distribution')"
      ]
     },
     "execution_count": 11,
     "metadata": {},
     "output_type": "execute_result"
    },
    {
     "data": {
      "image/png": "[encoded data removed]",
      "text/plain": [
       "<Figure size 720x504 with 1 Axes>"
      ]
     },
     "metadata": {
      "needs_background": "light"
     },
     "output_type": "display_data"
    }
   ],
   "source": [
    "# Distribution of Ratings\n",
    "\n",
    "plt.figure(figsize=(10,7))\n",
    "sns.countplot(df[\"Rating\"])\n",
    "plt.title(\"Rating Distribution\")"
   ]
  },
  {
   "cell_type": "code",
   "execution_count": 12,
   "id": "30b4c236",
   "metadata": {
    "colab": {
     "base_uri": "https://localhost:8080/",
     "height": 427
    },
    "id": "30b4c236",
    "outputId": "84d18509-a1bc-46fc-cc6e-101a78bab691"
   },
   "outputs": [
    {
     "data": {
      "image/png": "[encoded data removed]",
      "text/plain": [
       "<Figure size 792x504 with 1 Axes>"
      ]
     },
     "metadata": {},
     "output_type": "display_data"
    }
   ],
   "source": [
    "#Percentage distribution of ratings\n",
    "\n",
    "plt.figure(figsize=(11,7))\n",
    "plt.pie(df['Rating'].value_counts(),labels=['5.0','4.0','3.0','2.0','1.0'], autopct='%1.2f%%')\n",
    "plt.title(\"Rating Percentage Distribution \")\n",
    "plt.show()"
   ]
  },
  {
   "cell_type": "code",
   "execution_count": 13,
   "id": "PQNK_CFC5LSK",
   "metadata": {
    "colab": {
     "base_uri": "https://localhost:8080/",
     "height": 1000
    },
    "id": "PQNK_CFC5LSK",
    "outputId": "bd65b687-7fea-40ef-ea6f-c20239c61c0e"
   },
   "outputs": [
    {
     "data": {
      "text/plain": [
       "count    9054.000000\n",
       "mean       93.963773\n",
       "std        90.977999\n",
       "min         7.000000\n",
       "25%        44.000000\n",
       "50%        69.000000\n",
       "75%       111.000000\n",
       "max      1755.000000\n",
       "Name: Length, dtype: float64"
      ]
     },
     "metadata": {},
     "output_type": "display_data"
    },
    {
     "data": {
      "image/png": "[encoded data removed]",
      "text/plain": [
       "<Figure size 1800x1080 with 1 Axes>"
      ]
     },
     "metadata": {
      "needs_background": "light"
     },
     "output_type": "display_data"
    }
   ],
   "source": [
    "fig = plt.figure(figsize=(25,15))\n",
    "df[\"Length\"] = df.Review.str.split().apply(len)\n",
    "ax1 = fig.add_subplot(122)\n",
    "sns.histplot(df[df['Rating']==5]['Length'], ax=ax1,color='blue')\n",
    "fig.suptitle('5 Star Rating text length Distribution', fontsize=15)\n",
    "display(df.Length[df.Rating==5].describe())"
   ]
  },
  {
   "cell_type": "markdown",
   "id": "cb7c2e33",
   "metadata": {
    "id": "cb7c2e33"
   },
   "source": [
    "## **5. Data Pre Processing**"
   ]
  },
  {
   "cell_type": "code",
   "execution_count": 14,
   "id": "a533e829",
   "metadata": {
    "id": "a533e829"
   },
   "outputs": [],
   "source": [
    "import re"
   ]
  },
  {
   "cell_type": "markdown",
   "id": "4e824033",
   "metadata": {
    "id": "4e824033"
   },
   "source": [
    "### **5.1 Tokenization || Lemmatization || Lower Case || Removing numbers**"
   ]
  },
  {
   "cell_type": "code",
   "execution_count": 15,
   "id": "2879bbe1",
   "metadata": {
    "id": "2879bbe1"
   },
   "outputs": [],
   "source": [
    "cleaned_data=[]\n",
    "for i in range(0,len(df)):\n",
    "    review=re.sub('[^a-zA-Z]',' ',df['Review'][i])\n",
    "    review=review.lower() # lower case\n",
    "    review=review.split() # Tokenization\n",
    "    cleaned_data.append(review) # removing the numbers from the review"
   ]
  },
  {
   "cell_type": "code",
   "execution_count": 16,
   "id": "ddb89c53",
   "metadata": {
    "id": "ddb89c53"
   },
   "outputs": [],
   "source": [
    "#cleaned_data"
   ]
  },
  {
   "cell_type": "code",
   "execution_count": 17,
   "id": "09bba688",
   "metadata": {
    "id": "09bba688"
   },
   "outputs": [],
   "source": [
    "# importing the stopwords\n",
    "from nltk.corpus import stopwords\n",
    "# Stemming / Lemmatizer\n",
    "from nltk.stem.porter import PorterStemmer\n",
    "from nltk.stem import WordNetLemmatizer"
   ]
  },
  {
   "cell_type": "code",
   "execution_count": 18,
   "id": "fb958c51",
   "metadata": {
    "id": "fb958c51"
   },
   "outputs": [],
   "source": [
    "# Lemmatizing\n",
    "cleaned_data=[]\n",
    "lz=WordNetLemmatizer()\n",
    "\n",
    "for i in range(0,len(df)):\n",
    "    review=re.sub('[^a-zA-Z]',' ',df['Review'][i])\n",
    "    review=review.lower() # lower case\n",
    "    review=review.split() # Tokenization\n",
    "    review=[lz.lemmatize(word) for word in review if word not in stopwords.words('english')]\n",
    "    review=' '.join(review)\n",
    "    cleaned_data.append(review)"
   ]
  },
  {
   "cell_type": "code",
   "execution_count": 19,
   "id": "9b973c4a",
   "metadata": {
    "id": "9b973c4a"
   },
   "outputs": [],
   "source": [
    "#cleaned_data"
   ]
  },
  {
   "cell_type": "code",
   "execution_count": 20,
   "id": "4d8479f9",
   "metadata": {
    "id": "4d8479f9"
   },
   "outputs": [],
   "source": [
    "n = df.columns[0]\n",
    "df.drop(n, axis = 1, inplace = True)\n",
    "df[n] = cleaned_data"
   ]
  },
  {
   "cell_type": "code",
   "execution_count": 21,
   "id": "933fcbbb",
   "metadata": {
    "colab": {
     "base_uri": "https://localhost:8080/",
     "height": 424
    },
    "id": "933fcbbb",
    "outputId": "f931154f-d17b-4309-f856-0ccef5e26ccd"
   },
   "outputs": [
    {
     "data": {
      "text/html": [
       "<div>\n",
       "<style scoped>\n",
       "    .dataframe tbody tr th:only-of-type {\n",
       "        vertical-align: middle;\n",
       "    }\n",
       "\n",
       "    .dataframe tbody tr th {\n",
       "        vertical-align: top;\n",
       "    }\n",
       "\n",
       "    .dataframe thead th {\n",
       "        text-align: right;\n",
       "    }\n",
       "</style>\n",
       "<table border=\"1\" class=\"dataframe\">\n",
       "  <thead>\n",
       "    <tr style=\"text-align: right;\">\n",
       "      <th></th>\n",
       "      <th>Rating</th>\n",
       "      <th>Length</th>\n",
       "      <th>Review</th>\n",
       "    </tr>\n",
       "  </thead>\n",
       "  <tbody>\n",
       "    <tr>\n",
       "      <th>0</th>\n",
       "      <td>4</td>\n",
       "      <td>87</td>\n",
       "      <td>nice hotel expensive parking got good deal sta...</td>\n",
       "    </tr>\n",
       "    <tr>\n",
       "      <th>1</th>\n",
       "      <td>2</td>\n",
       "      <td>250</td>\n",
       "      <td>ok nothing special charge diamond member hilto...</td>\n",
       "    </tr>\n",
       "    <tr>\n",
       "      <th>2</th>\n",
       "      <td>3</td>\n",
       "      <td>217</td>\n",
       "      <td>nice room experience hotel monaco seattle good...</td>\n",
       "    </tr>\n",
       "    <tr>\n",
       "      <th>3</th>\n",
       "      <td>5</td>\n",
       "      <td>89</td>\n",
       "      <td>unique great stay wonderful time hotel monaco ...</td>\n",
       "    </tr>\n",
       "    <tr>\n",
       "      <th>4</th>\n",
       "      <td>5</td>\n",
       "      <td>191</td>\n",
       "      <td>great stay great stay went seahawk game awesom...</td>\n",
       "    </tr>\n",
       "    <tr>\n",
       "      <th>...</th>\n",
       "      <td>...</td>\n",
       "      <td>...</td>\n",
       "      <td>...</td>\n",
       "    </tr>\n",
       "    <tr>\n",
       "      <th>20486</th>\n",
       "      <td>5</td>\n",
       "      <td>109</td>\n",
       "      <td>best kept secret rd time staying charm star ca...</td>\n",
       "    </tr>\n",
       "    <tr>\n",
       "      <th>20487</th>\n",
       "      <td>4</td>\n",
       "      <td>39</td>\n",
       "      <td>great location price view hotel great quick pl...</td>\n",
       "    </tr>\n",
       "    <tr>\n",
       "      <th>20488</th>\n",
       "      <td>2</td>\n",
       "      <td>63</td>\n",
       "      <td>ok look nice modern outside desk staff n parti...</td>\n",
       "    </tr>\n",
       "    <tr>\n",
       "      <th>20489</th>\n",
       "      <td>1</td>\n",
       "      <td>781</td>\n",
       "      <td>hotel theft ruined vacation hotel opened sept ...</td>\n",
       "    </tr>\n",
       "    <tr>\n",
       "      <th>20490</th>\n",
       "      <td>2</td>\n",
       "      <td>90</td>\n",
       "      <td>people talking ca n believe excellent rating h...</td>\n",
       "    </tr>\n",
       "  </tbody>\n",
       "</table>\n",
       "<p>20491 rows × 3 columns</p>\n",
       "</div>"
      ],
      "text/plain": [
       "       Rating  Length                                             Review\n",
       "0           4      87  nice hotel expensive parking got good deal sta...\n",
       "1           2     250  ok nothing special charge diamond member hilto...\n",
       "2           3     217  nice room experience hotel monaco seattle good...\n",
       "3           5      89  unique great stay wonderful time hotel monaco ...\n",
       "4           5     191  great stay great stay went seahawk game awesom...\n",
       "...       ...     ...                                                ...\n",
       "20486       5     109  best kept secret rd time staying charm star ca...\n",
       "20487       4      39  great location price view hotel great quick pl...\n",
       "20488       2      63  ok look nice modern outside desk staff n parti...\n",
       "20489       1     781  hotel theft ruined vacation hotel opened sept ...\n",
       "20490       2      90  people talking ca n believe excellent rating h...\n",
       "\n",
       "[20491 rows x 3 columns]"
      ]
     },
     "execution_count": 21,
     "metadata": {},
     "output_type": "execute_result"
    }
   ],
   "source": [
    "df"
   ]
  },
  {
   "cell_type": "markdown",
   "id": "86238af0",
   "metadata": {
    "id": "86238af0"
   },
   "source": [
    "### **5.2 Textblob || Vader Sentiment**"
   ]
  },
  {
   "cell_type": "markdown",
   "id": "3f6bd30d",
   "metadata": {
    "id": "LwmFCh8m7HNO"
   },
   "source": [
    "\n",
    "*   Textblob can be used for complex analysis and working with textual data. \n",
    "\n",
    "*   When a sentence is passed into Textblob it gives two outputs, which are polarity and subjectivity.\n",
    "\n",
    "\n",
    "*   Polarity is the output that lies between [-1,1], where -1 refers to negative sentiment and +1 refers to positive sentiment. Subjectivity is the output that lies within [0,1] and refers to personal opinions and judgments.\n",
    "\n",
    "*   For Sentiment Analysis, we’ll use VADER Sentiment Analysis, where VADER means Valence Aware Dictionary and sEntiment Reasoner.\n",
    "\n",
    "\n",
    "*   VADER utilizes a mix of lexical highlights (e.g., words) that are, for the most part, marked by their semantic direction as one or the other positive or negative. Thus, VADER not only tells about the Polarity score yet, in addition, it tells us concerning how positive or negative a conclusion is.\n",
    "\n",
    "*   VADER produces four sentiment measurements from these word grading, which you can see underneath. The initial three, +ve, neutral, and -ve, address the extent of the content that falls into those classifications. The last measurement, the compound score, is the total amount of the lexicon grades, which have been normalized to run between – 1 and 1.\n",
    "\n",
    "\n",
    "\n"
   ]
  },
  {
   "cell_type": "code",
   "execution_count": 22,
   "id": "4025908a",
   "metadata": {
    "id": "4025908a"
   },
   "outputs": [],
   "source": [
    "from textblob import TextBlob\n",
    "from vaderSentiment.vaderSentiment import SentimentIntensityAnalyzer\n",
    "\n",
    "def detect_tb_polarity(text):\n",
    "    return TextBlob(text).sentiment.polarity\n",
    "\n",
    "def detect_tb_subjectivity(text):\n",
    "    return TextBlob(text).sentiment.subjectivity\n",
    "\n",
    "def detect_vader_pos(text):\n",
    "    return vader.polarity_scores(text)['pos']\n",
    "\n",
    "def detect_vader_neg(text):\n",
    "    return vader.polarity_scores(text)['neg']\n",
    "\n",
    "def detect_vader_comp(text):\n",
    "    return vader.polarity_scores(text)['compound']"
   ]
  },
  {
   "cell_type": "code",
   "execution_count": 23,
   "id": "dc164c60",
   "metadata": {
    "id": "dc164c60"
   },
   "outputs": [],
   "source": [
    "df['tb_polarity'] = df.Review.apply(detect_tb_polarity)\n",
    "df['tb_subjectivity'] = df.Review.apply(detect_tb_subjectivity)\n",
    "\n",
    "vader = SentimentIntensityAnalyzer()\n",
    "df['vader_pos'] = df.Review.apply(detect_vader_pos)\n",
    "df['vader_neg'] = df.Review.apply(detect_vader_neg)\n",
    "df['vader_comp'] = df.Review.apply(detect_vader_comp)\n"
   ]
  },
  {
   "cell_type": "code",
   "execution_count": 24,
   "id": "7d2f08cf",
   "metadata": {
    "colab": {
     "base_uri": "https://localhost:8080/",
     "height": 424
    },
    "id": "7d2f08cf",
    "outputId": "240e9382-a870-433f-d622-8b730ca14b20"
   },
   "outputs": [
    {
     "data": {
      "text/html": [
       "<div>\n",
       "<style scoped>\n",
       "    .dataframe tbody tr th:only-of-type {\n",
       "        vertical-align: middle;\n",
       "    }\n",
       "\n",
       "    .dataframe tbody tr th {\n",
       "        vertical-align: top;\n",
       "    }\n",
       "\n",
       "    .dataframe thead th {\n",
       "        text-align: right;\n",
       "    }\n",
       "</style>\n",
       "<table border=\"1\" class=\"dataframe\">\n",
       "  <thead>\n",
       "    <tr style=\"text-align: right;\">\n",
       "      <th></th>\n",
       "      <th>Rating</th>\n",
       "      <th>Length</th>\n",
       "      <th>Review</th>\n",
       "      <th>tb_polarity</th>\n",
       "      <th>tb_subjectivity</th>\n",
       "      <th>vader_pos</th>\n",
       "      <th>vader_neg</th>\n",
       "      <th>vader_comp</th>\n",
       "    </tr>\n",
       "  </thead>\n",
       "  <tbody>\n",
       "    <tr>\n",
       "      <th>0</th>\n",
       "      <td>4</td>\n",
       "      <td>87</td>\n",
       "      <td>nice hotel expensive parking got good deal sta...</td>\n",
       "      <td>0.208744</td>\n",
       "      <td>0.687000</td>\n",
       "      <td>0.324</td>\n",
       "      <td>0.056</td>\n",
       "      <td>0.9808</td>\n",
       "    </tr>\n",
       "    <tr>\n",
       "      <th>1</th>\n",
       "      <td>2</td>\n",
       "      <td>250</td>\n",
       "      <td>ok nothing special charge diamond member hilto...</td>\n",
       "      <td>0.246004</td>\n",
       "      <td>0.516630</td>\n",
       "      <td>0.255</td>\n",
       "      <td>0.052</td>\n",
       "      <td>0.9952</td>\n",
       "    </tr>\n",
       "    <tr>\n",
       "      <th>2</th>\n",
       "      <td>3</td>\n",
       "      <td>217</td>\n",
       "      <td>nice room experience hotel monaco seattle good...</td>\n",
       "      <td>0.266138</td>\n",
       "      <td>0.606239</td>\n",
       "      <td>0.249</td>\n",
       "      <td>0.077</td>\n",
       "      <td>0.9921</td>\n",
       "    </tr>\n",
       "    <tr>\n",
       "      <th>3</th>\n",
       "      <td>5</td>\n",
       "      <td>89</td>\n",
       "      <td>unique great stay wonderful time hotel monaco ...</td>\n",
       "      <td>0.504825</td>\n",
       "      <td>0.691228</td>\n",
       "      <td>0.444</td>\n",
       "      <td>0.000</td>\n",
       "      <td>0.9949</td>\n",
       "    </tr>\n",
       "    <tr>\n",
       "      <th>4</th>\n",
       "      <td>5</td>\n",
       "      <td>191</td>\n",
       "      <td>great stay great stay went seahawk game awesom...</td>\n",
       "      <td>0.469643</td>\n",
       "      <td>0.627296</td>\n",
       "      <td>0.307</td>\n",
       "      <td>0.066</td>\n",
       "      <td>0.9955</td>\n",
       "    </tr>\n",
       "    <tr>\n",
       "      <th>...</th>\n",
       "      <td>...</td>\n",
       "      <td>...</td>\n",
       "      <td>...</td>\n",
       "      <td>...</td>\n",
       "      <td>...</td>\n",
       "      <td>...</td>\n",
       "      <td>...</td>\n",
       "      <td>...</td>\n",
       "    </tr>\n",
       "    <tr>\n",
       "      <th>20486</th>\n",
       "      <td>5</td>\n",
       "      <td>109</td>\n",
       "      <td>best kept secret rd time staying charm star ca...</td>\n",
       "      <td>0.209229</td>\n",
       "      <td>0.526768</td>\n",
       "      <td>0.292</td>\n",
       "      <td>0.094</td>\n",
       "      <td>0.9810</td>\n",
       "    </tr>\n",
       "    <tr>\n",
       "      <th>20487</th>\n",
       "      <td>4</td>\n",
       "      <td>39</td>\n",
       "      <td>great location price view hotel great quick pl...</td>\n",
       "      <td>0.463333</td>\n",
       "      <td>0.600000</td>\n",
       "      <td>0.432</td>\n",
       "      <td>0.000</td>\n",
       "      <td>0.9790</td>\n",
       "    </tr>\n",
       "    <tr>\n",
       "      <th>20488</th>\n",
       "      <td>2</td>\n",
       "      <td>63</td>\n",
       "      <td>ok look nice modern outside desk staff n parti...</td>\n",
       "      <td>0.171220</td>\n",
       "      <td>0.524304</td>\n",
       "      <td>0.195</td>\n",
       "      <td>0.065</td>\n",
       "      <td>0.8655</td>\n",
       "    </tr>\n",
       "    <tr>\n",
       "      <th>20489</th>\n",
       "      <td>1</td>\n",
       "      <td>781</td>\n",
       "      <td>hotel theft ruined vacation hotel opened sept ...</td>\n",
       "      <td>0.145881</td>\n",
       "      <td>0.532371</td>\n",
       "      <td>0.193</td>\n",
       "      <td>0.151</td>\n",
       "      <td>0.9919</td>\n",
       "    </tr>\n",
       "    <tr>\n",
       "      <th>20490</th>\n",
       "      <td>2</td>\n",
       "      <td>90</td>\n",
       "      <td>people talking ca n believe excellent rating h...</td>\n",
       "      <td>0.110615</td>\n",
       "      <td>0.626190</td>\n",
       "      <td>0.275</td>\n",
       "      <td>0.085</td>\n",
       "      <td>0.9643</td>\n",
       "    </tr>\n",
       "  </tbody>\n",
       "</table>\n",
       "<p>20491 rows × 8 columns</p>\n",
       "</div>"
      ],
      "text/plain": [
       "       Rating  Length                                             Review  \\\n",
       "0           4      87  nice hotel expensive parking got good deal sta...   \n",
       "1           2     250  ok nothing special charge diamond member hilto...   \n",
       "2           3     217  nice room experience hotel monaco seattle good...   \n",
       "3           5      89  unique great stay wonderful time hotel monaco ...   \n",
       "4           5     191  great stay great stay went seahawk game awesom...   \n",
       "...       ...     ...                                                ...   \n",
       "20486       5     109  best kept secret rd time staying charm star ca...   \n",
       "20487       4      39  great location price view hotel great quick pl...   \n",
       "20488       2      63  ok look nice modern outside desk staff n parti...   \n",
       "20489       1     781  hotel theft ruined vacation hotel opened sept ...   \n",
       "20490       2      90  people talking ca n believe excellent rating h...   \n",
       "\n",
       "       tb_polarity  tb_subjectivity  vader_pos  vader_neg  vader_comp  \n",
       "0         0.208744         0.687000      0.324      0.056      0.9808  \n",
       "1         0.246004         0.516630      0.255      0.052      0.9952  \n",
       "2         0.266138         0.606239      0.249      0.077      0.9921  \n",
       "3         0.504825         0.691228      0.444      0.000      0.9949  \n",
       "4         0.469643         0.627296      0.307      0.066      0.9955  \n",
       "...            ...              ...        ...        ...         ...  \n",
       "20486     0.209229         0.526768      0.292      0.094      0.9810  \n",
       "20487     0.463333         0.600000      0.432      0.000      0.9790  \n",
       "20488     0.171220         0.524304      0.195      0.065      0.8655  \n",
       "20489     0.145881         0.532371      0.193      0.151      0.9919  \n",
       "20490     0.110615         0.626190      0.275      0.085      0.9643  \n",
       "\n",
       "[20491 rows x 8 columns]"
      ]
     },
     "execution_count": 24,
     "metadata": {},
     "output_type": "execute_result"
    }
   ],
   "source": [
    "df"
   ]
  },
  {
   "cell_type": "code",
   "execution_count": 25,
   "id": "bcdbdfa7",
   "metadata": {
    "colab": {
     "base_uri": "https://localhost:8080/",
     "height": 677
    },
    "id": "bcdbdfa7",
    "outputId": "c7a721e2-ee10-4d54-d568-e07703af8af8"
   },
   "outputs": [
    {
     "data": {
      "text/html": [
       "<div>\n",
       "<style scoped>\n",
       "    .dataframe tbody tr th:only-of-type {\n",
       "        vertical-align: middle;\n",
       "    }\n",
       "\n",
       "    .dataframe tbody tr th {\n",
       "        vertical-align: top;\n",
       "    }\n",
       "\n",
       "    .dataframe thead th {\n",
       "        text-align: right;\n",
       "    }\n",
       "</style>\n",
       "<table border=\"1\" class=\"dataframe\">\n",
       "  <thead>\n",
       "    <tr style=\"text-align: right;\">\n",
       "      <th></th>\n",
       "      <th>Rating</th>\n",
       "      <th>Length</th>\n",
       "      <th>Review</th>\n",
       "      <th>tb_polarity</th>\n",
       "      <th>tb_subjectivity</th>\n",
       "      <th>vader_pos</th>\n",
       "      <th>vader_neg</th>\n",
       "      <th>vader_comp</th>\n",
       "      <th>Polarity</th>\n",
       "      <th>Subjectivity</th>\n",
       "    </tr>\n",
       "  </thead>\n",
       "  <tbody>\n",
       "    <tr>\n",
       "      <th>6189</th>\n",
       "      <td>3</td>\n",
       "      <td>49</td>\n",
       "      <td>convenient location pretty good value plus sid...</td>\n",
       "      <td>0.166429</td>\n",
       "      <td>0.557857</td>\n",
       "      <td>0.303</td>\n",
       "      <td>0.146</td>\n",
       "      <td>0.8598</td>\n",
       "      <td>neutral</td>\n",
       "      <td>positive</td>\n",
       "    </tr>\n",
       "    <tr>\n",
       "      <th>11828</th>\n",
       "      <td>5</td>\n",
       "      <td>83</td>\n",
       "      <td>great hotel perfect location got night barcelo...</td>\n",
       "      <td>0.392593</td>\n",
       "      <td>0.644444</td>\n",
       "      <td>0.389</td>\n",
       "      <td>0.102</td>\n",
       "      <td>0.9871</td>\n",
       "      <td>positive</td>\n",
       "      <td>positive</td>\n",
       "    </tr>\n",
       "    <tr>\n",
       "      <th>18507</th>\n",
       "      <td>5</td>\n",
       "      <td>84</td>\n",
       "      <td>majestic colonial punta cana little bit heaven...</td>\n",
       "      <td>0.168296</td>\n",
       "      <td>0.572118</td>\n",
       "      <td>0.330</td>\n",
       "      <td>0.030</td>\n",
       "      <td>0.9841</td>\n",
       "      <td>neutral</td>\n",
       "      <td>positive</td>\n",
       "    </tr>\n",
       "    <tr>\n",
       "      <th>11004</th>\n",
       "      <td>1</td>\n",
       "      <td>239</td>\n",
       "      <td>disco club music hotel n expect sleep complete...</td>\n",
       "      <td>0.002112</td>\n",
       "      <td>0.460664</td>\n",
       "      <td>0.161</td>\n",
       "      <td>0.112</td>\n",
       "      <td>0.8458</td>\n",
       "      <td>neutral</td>\n",
       "      <td>neutral</td>\n",
       "    </tr>\n",
       "    <tr>\n",
       "      <th>10215</th>\n",
       "      <td>3</td>\n",
       "      <td>82</td>\n",
       "      <td>great website okay room slightly hesistant arr...</td>\n",
       "      <td>0.100877</td>\n",
       "      <td>0.595614</td>\n",
       "      <td>0.306</td>\n",
       "      <td>0.043</td>\n",
       "      <td>0.9633</td>\n",
       "      <td>neutral</td>\n",
       "      <td>positive</td>\n",
       "    </tr>\n",
       "    <tr>\n",
       "      <th>8526</th>\n",
       "      <td>5</td>\n",
       "      <td>54</td>\n",
       "      <td>great location recently travelled florence ple...</td>\n",
       "      <td>0.246865</td>\n",
       "      <td>0.470661</td>\n",
       "      <td>0.296</td>\n",
       "      <td>0.039</td>\n",
       "      <td>0.9569</td>\n",
       "      <td>positive</td>\n",
       "      <td>neutral</td>\n",
       "    </tr>\n",
       "    <tr>\n",
       "      <th>3346</th>\n",
       "      <td>1</td>\n",
       "      <td>163</td>\n",
       "      <td>overpriced moldy musty hotel excited going pue...</td>\n",
       "      <td>0.000259</td>\n",
       "      <td>0.451575</td>\n",
       "      <td>0.122</td>\n",
       "      <td>0.110</td>\n",
       "      <td>0.0202</td>\n",
       "      <td>neutral</td>\n",
       "      <td>neutral</td>\n",
       "    </tr>\n",
       "    <tr>\n",
       "      <th>9237</th>\n",
       "      <td>5</td>\n",
       "      <td>20</td>\n",
       "      <td>great booking direct hotel give best rate wort...</td>\n",
       "      <td>0.571429</td>\n",
       "      <td>0.464286</td>\n",
       "      <td>0.677</td>\n",
       "      <td>0.000</td>\n",
       "      <td>0.9804</td>\n",
       "      <td>positive</td>\n",
       "      <td>neutral</td>\n",
       "    </tr>\n",
       "    <tr>\n",
       "      <th>10082</th>\n",
       "      <td>5</td>\n",
       "      <td>68</td>\n",
       "      <td>wonderful hotel definitely stay hotel located ...</td>\n",
       "      <td>0.231667</td>\n",
       "      <td>0.536984</td>\n",
       "      <td>0.363</td>\n",
       "      <td>0.000</td>\n",
       "      <td>0.9825</td>\n",
       "      <td>positive</td>\n",
       "      <td>neutral</td>\n",
       "    </tr>\n",
       "    <tr>\n",
       "      <th>19201</th>\n",
       "      <td>4</td>\n",
       "      <td>54</td>\n",
       "      <td>superb service stayed night january whilst rec...</td>\n",
       "      <td>0.652778</td>\n",
       "      <td>0.725926</td>\n",
       "      <td>0.482</td>\n",
       "      <td>0.034</td>\n",
       "      <td>0.9899</td>\n",
       "      <td>positive</td>\n",
       "      <td>positive</td>\n",
       "    </tr>\n",
       "    <tr>\n",
       "      <th>9158</th>\n",
       "      <td>4</td>\n",
       "      <td>42</td>\n",
       "      <td>charming small hotel great location charming h...</td>\n",
       "      <td>0.246429</td>\n",
       "      <td>0.643254</td>\n",
       "      <td>0.447</td>\n",
       "      <td>0.055</td>\n",
       "      <td>0.9682</td>\n",
       "      <td>positive</td>\n",
       "      <td>positive</td>\n",
       "    </tr>\n",
       "    <tr>\n",
       "      <th>5928</th>\n",
       "      <td>4</td>\n",
       "      <td>25</td>\n",
       "      <td>good hotel ideally situated nyc great hotel id...</td>\n",
       "      <td>0.577381</td>\n",
       "      <td>0.626190</td>\n",
       "      <td>0.576</td>\n",
       "      <td>0.000</td>\n",
       "      <td>0.9670</td>\n",
       "      <td>positive</td>\n",
       "      <td>positive</td>\n",
       "    </tr>\n",
       "    <tr>\n",
       "      <th>5852</th>\n",
       "      <td>5</td>\n",
       "      <td>90</td>\n",
       "      <td>sofitel belle new york husband spent wonderful...</td>\n",
       "      <td>0.205801</td>\n",
       "      <td>0.521970</td>\n",
       "      <td>0.283</td>\n",
       "      <td>0.076</td>\n",
       "      <td>0.9725</td>\n",
       "      <td>positive</td>\n",
       "      <td>neutral</td>\n",
       "    </tr>\n",
       "    <tr>\n",
       "      <th>3824</th>\n",
       "      <td>1</td>\n",
       "      <td>173</td>\n",
       "      <td>riu really husband got yesterday week riu tain...</td>\n",
       "      <td>0.177890</td>\n",
       "      <td>0.606958</td>\n",
       "      <td>0.203</td>\n",
       "      <td>0.143</td>\n",
       "      <td>0.9425</td>\n",
       "      <td>neutral</td>\n",
       "      <td>positive</td>\n",
       "    </tr>\n",
       "    <tr>\n",
       "      <th>3361</th>\n",
       "      <td>2</td>\n",
       "      <td>78</td>\n",
       "      <td>room nice noise control went san juan march st...</td>\n",
       "      <td>0.108214</td>\n",
       "      <td>0.587566</td>\n",
       "      <td>0.191</td>\n",
       "      <td>0.075</td>\n",
       "      <td>0.8779</td>\n",
       "      <td>neutral</td>\n",
       "      <td>positive</td>\n",
       "    </tr>\n",
       "    <tr>\n",
       "      <th>14020</th>\n",
       "      <td>5</td>\n",
       "      <td>41</td>\n",
       "      <td>friendly hotel returned hotel staff friendly h...</td>\n",
       "      <td>0.416667</td>\n",
       "      <td>0.583333</td>\n",
       "      <td>0.361</td>\n",
       "      <td>0.044</td>\n",
       "      <td>0.9432</td>\n",
       "      <td>positive</td>\n",
       "      <td>positive</td>\n",
       "    </tr>\n",
       "    <tr>\n",
       "      <th>10991</th>\n",
       "      <td>3</td>\n",
       "      <td>54</td>\n",
       "      <td>bad high maintanence traveler hotel n horrible...</td>\n",
       "      <td>0.020278</td>\n",
       "      <td>0.606111</td>\n",
       "      <td>0.276</td>\n",
       "      <td>0.154</td>\n",
       "      <td>0.8126</td>\n",
       "      <td>neutral</td>\n",
       "      <td>positive</td>\n",
       "    </tr>\n",
       "    <tr>\n",
       "      <th>19404</th>\n",
       "      <td>5</td>\n",
       "      <td>115</td>\n",
       "      <td>perfect weekend away arrived early friday morn...</td>\n",
       "      <td>0.354014</td>\n",
       "      <td>0.568180</td>\n",
       "      <td>0.316</td>\n",
       "      <td>0.052</td>\n",
       "      <td>0.9905</td>\n",
       "      <td>positive</td>\n",
       "      <td>positive</td>\n",
       "    </tr>\n",
       "    <tr>\n",
       "      <th>3398</th>\n",
       "      <td>3</td>\n",
       "      <td>130</td>\n",
       "      <td>pre post cruise stay stayed condado plaza prio...</td>\n",
       "      <td>0.238194</td>\n",
       "      <td>0.617438</td>\n",
       "      <td>0.178</td>\n",
       "      <td>0.050</td>\n",
       "      <td>0.9556</td>\n",
       "      <td>positive</td>\n",
       "      <td>positive</td>\n",
       "    </tr>\n",
       "    <tr>\n",
       "      <th>3915</th>\n",
       "      <td>4</td>\n",
       "      <td>91</td>\n",
       "      <td>beautiful hotel helpful friendly staff fiance ...</td>\n",
       "      <td>0.333312</td>\n",
       "      <td>0.636168</td>\n",
       "      <td>0.474</td>\n",
       "      <td>0.039</td>\n",
       "      <td>0.9949</td>\n",
       "      <td>positive</td>\n",
       "      <td>positive</td>\n",
       "    </tr>\n",
       "  </tbody>\n",
       "</table>\n",
       "</div>"
      ],
      "text/plain": [
       "       Rating  Length                                             Review  \\\n",
       "6189        3      49  convenient location pretty good value plus sid...   \n",
       "11828       5      83  great hotel perfect location got night barcelo...   \n",
       "18507       5      84  majestic colonial punta cana little bit heaven...   \n",
       "11004       1     239  disco club music hotel n expect sleep complete...   \n",
       "10215       3      82  great website okay room slightly hesistant arr...   \n",
       "8526        5      54  great location recently travelled florence ple...   \n",
       "3346        1     163  overpriced moldy musty hotel excited going pue...   \n",
       "9237        5      20  great booking direct hotel give best rate wort...   \n",
       "10082       5      68  wonderful hotel definitely stay hotel located ...   \n",
       "19201       4      54  superb service stayed night january whilst rec...   \n",
       "9158        4      42  charming small hotel great location charming h...   \n",
       "5928        4      25  good hotel ideally situated nyc great hotel id...   \n",
       "5852        5      90  sofitel belle new york husband spent wonderful...   \n",
       "3824        1     173  riu really husband got yesterday week riu tain...   \n",
       "3361        2      78  room nice noise control went san juan march st...   \n",
       "14020       5      41  friendly hotel returned hotel staff friendly h...   \n",
       "10991       3      54  bad high maintanence traveler hotel n horrible...   \n",
       "19404       5     115  perfect weekend away arrived early friday morn...   \n",
       "3398        3     130  pre post cruise stay stayed condado plaza prio...   \n",
       "3915        4      91  beautiful hotel helpful friendly staff fiance ...   \n",
       "\n",
       "       tb_polarity  tb_subjectivity  vader_pos  vader_neg  vader_comp  \\\n",
       "6189      0.166429         0.557857      0.303      0.146      0.8598   \n",
       "11828     0.392593         0.644444      0.389      0.102      0.9871   \n",
       "18507     0.168296         0.572118      0.330      0.030      0.9841   \n",
       "11004     0.002112         0.460664      0.161      0.112      0.8458   \n",
       "10215     0.100877         0.595614      0.306      0.043      0.9633   \n",
       "8526      0.246865         0.470661      0.296      0.039      0.9569   \n",
       "3346      0.000259         0.451575      0.122      0.110      0.0202   \n",
       "9237      0.571429         0.464286      0.677      0.000      0.9804   \n",
       "10082     0.231667         0.536984      0.363      0.000      0.9825   \n",
       "19201     0.652778         0.725926      0.482      0.034      0.9899   \n",
       "9158      0.246429         0.643254      0.447      0.055      0.9682   \n",
       "5928      0.577381         0.626190      0.576      0.000      0.9670   \n",
       "5852      0.205801         0.521970      0.283      0.076      0.9725   \n",
       "3824      0.177890         0.606958      0.203      0.143      0.9425   \n",
       "3361      0.108214         0.587566      0.191      0.075      0.8779   \n",
       "14020     0.416667         0.583333      0.361      0.044      0.9432   \n",
       "10991     0.020278         0.606111      0.276      0.154      0.8126   \n",
       "19404     0.354014         0.568180      0.316      0.052      0.9905   \n",
       "3398      0.238194         0.617438      0.178      0.050      0.9556   \n",
       "3915      0.333312         0.636168      0.474      0.039      0.9949   \n",
       "\n",
       "       Polarity Subjectivity  \n",
       "6189    neutral     positive  \n",
       "11828  positive     positive  \n",
       "18507   neutral     positive  \n",
       "11004   neutral      neutral  \n",
       "10215   neutral     positive  \n",
       "8526   positive      neutral  \n",
       "3346    neutral      neutral  \n",
       "9237   positive      neutral  \n",
       "10082  positive      neutral  \n",
       "19201  positive     positive  \n",
       "9158   positive     positive  \n",
       "5928   positive     positive  \n",
       "5852   positive      neutral  \n",
       "3824    neutral     positive  \n",
       "3361    neutral     positive  \n",
       "14020  positive     positive  \n",
       "10991   neutral     positive  \n",
       "19404  positive     positive  \n",
       "3398   positive     positive  \n",
       "3915   positive     positive  "
      ]
     },
     "execution_count": 25,
     "metadata": {},
     "output_type": "execute_result"
    }
   ],
   "source": [
    "#user def function for subjectivity\n",
    "\n",
    "def sentiment(x):\n",
    "    if x<-0.2:\n",
    "        return 'negative'\n",
    "    \n",
    "    elif -0.2<x<0.2:\n",
    "        return 'neutral'\n",
    "    \n",
    "    else:\n",
    "        return 'positive'\n",
    "    \n",
    "df['Polarity']=df['tb_polarity'].map(lambda x: sentiment(x))\n",
    "\n",
    "def sentiment(y):\n",
    "\n",
    "    if y < 0.45:\n",
    "        return \"negative\"\n",
    "    \n",
    "    elif 0.45<y<0.55:\n",
    "        return \"neutral\"\n",
    "    \n",
    "    else:\n",
    "        return \"positive\"\n",
    " \n",
    "df['Subjectivity'] = df['tb_subjectivity'].apply(sentiment)\n",
    "df.sample(20)"
   ]
  },
  {
   "cell_type": "code",
   "execution_count": 26,
   "id": "ad39Zi3E9rU6",
   "metadata": {
    "colab": {
     "base_uri": "https://localhost:8080/"
    },
    "id": "ad39Zi3E9rU6",
    "outputId": "3fbac62a-c21b-4f24-c401-116a66f282fe"
   },
   "outputs": [
    {
     "data": {
      "text/plain": [
       "positive    14770\n",
       "neutral      5479\n",
       "negative      242\n",
       "Name: Polarity, dtype: int64"
      ]
     },
     "execution_count": 26,
     "metadata": {},
     "output_type": "execute_result"
    }
   ],
   "source": [
    "df.Polarity.value_counts()"
   ]
  },
  {
   "cell_type": "code",
   "execution_count": 27,
   "id": "z7j9RQu-9-ZD",
   "metadata": {
    "colab": {
     "base_uri": "https://localhost:8080/",
     "height": 319
    },
    "id": "z7j9RQu-9-ZD",
    "outputId": "05f18a5e-e603-4013-931b-b43ec87bf765"
   },
   "outputs": [
    {
     "data": {
      "image/png": "[encoded data removed]",
      "text/plain": [
       "<Figure size 576x360 with 1 Axes>"
      ]
     },
     "metadata": {},
     "output_type": "display_data"
    }
   ],
   "source": [
    "plt.figure(figsize=(8,5))\n",
    "plt.pie(df['Polarity'].value_counts(),labels=['Positive','Neutral','Negative'],autopct='%1.2f%%')\n",
    "plt.title(\"Polarity % Distribution Across Dataset\")\n",
    "plt.show()"
   ]
  },
  {
   "cell_type": "code",
   "execution_count": 28,
   "id": "5fdcfaa9",
   "metadata": {
    "id": "5fdcfaa9"
   },
   "outputs": [],
   "source": [
    "def generate_N_grams(text,ngram=1):\n",
    "  words=[word for word in text.split(\" \") if word not in set(stopwords.words('english'))]  \n",
    "  #print(\"Sentence after removing stopwords:\",words)\n",
    "  temp=zip(*[words[i:] for i in range(0,ngram)])\n",
    "  ans=[' '.join(ngram) for ngram in temp]\n",
    "  return ans"
   ]
  },
  {
   "cell_type": "markdown",
   "id": "fbb0a85c",
   "metadata": {
    "id": "fbb0a85c"
   },
   "source": [
    "### **Top 10 words in positive dataframe-BIGRAM ANALYSIS**"
   ]
  },
  {
   "cell_type": "code",
   "execution_count": 29,
   "id": "19cd0056",
   "metadata": {
    "id": "19cd0056"
   },
   "outputs": [],
   "source": [
    "#from collections import defaultdict"
   ]
  },
  {
   "cell_type": "code",
   "execution_count": 30,
   "id": "3b0cb7b3",
   "metadata": {
    "id": "3b0cb7b3"
   },
   "outputs": [],
   "source": [
    "#get the count of every word in the column of dataframe\n",
    "#positiveValues2=defaultdict(int)\n",
    "#negativeValues2=defaultdict(int)"
   ]
  },
  {
   "cell_type": "code",
   "execution_count": 31,
   "id": "26b30675",
   "metadata": {
    "id": "26b30675"
   },
   "outputs": [],
   "source": [
    "#get the count of every word in the column of dataframe where Polarity=\"positive\"\n",
    "#for text in df[df.Polarity==\"positive\"].Review:\n",
    "#  for word in generate_N_grams(text,2):\n",
    "#    positiveValues2[word]+=1"
   ]
  },
  {
   "cell_type": "code",
   "execution_count": 32,
   "id": "c241676a",
   "metadata": {
    "id": "c241676a"
   },
   "outputs": [],
   "source": [
    "#df_positive2=pd.DataFrame(sorted(positiveValues2.items(),key=lambda x:x[1],reverse=True))"
   ]
  },
  {
   "cell_type": "code",
   "execution_count": 33,
   "id": "65734682",
   "metadata": {
    "id": "65734682"
   },
   "outputs": [],
   "source": [
    "#pd1bi=df_positive2[0][:10]\n",
    "#pd2bi=df_positive2[1][:10]"
   ]
  },
  {
   "cell_type": "code",
   "execution_count": 34,
   "id": "68314ce2",
   "metadata": {
    "id": "68314ce2"
   },
   "outputs": [],
   "source": [
    "#plt.figure(1,figsize=(16,4))\n",
    "#plt.bar(pd1bi,pd2bi, color ='green',width = 0.4)\n",
    "#plt.xlabel(\"Words in positive dataframe\")\n",
    "#plt.ylabel(\"Count\")\n",
    "#plt.title(\"Top 10 words in positive dataframe-BIGRAM ANALYSIS\")\n",
    "#plt.savefig(\"positive-bigram.png\")\n",
    "#plt.show()"
   ]
  },
  {
   "cell_type": "markdown",
   "id": "4420f576",
   "metadata": {
    "id": "4420f576"
   },
   "source": [
    "### **Top 10 words in positive dataframe-TRIGRAM ANALYSIS**"
   ]
  },
  {
   "cell_type": "code",
   "execution_count": 35,
   "id": "3261e1b4",
   "metadata": {
    "id": "3261e1b4"
   },
   "outputs": [],
   "source": [
    "#get the count of every word in the columns of dataframe\n",
    "\n",
    "#positiveValues3=defaultdict(int)"
   ]
  },
  {
   "cell_type": "code",
   "execution_count": 36,
   "id": "7e9918ad",
   "metadata": {
    "id": "7e9918ad"
   },
   "outputs": [],
   "source": [
    "#get the count of every word in the columns of dataframe where Polarity=\"positive\"\n",
    "#for text in df[df.Polarity==\"positive\"].Review:\n",
    "#  for word in generate_N_grams(text,3):\n",
    "#    positiveValues3[word]+=1"
   ]
  },
  {
   "cell_type": "code",
   "execution_count": 37,
   "id": "cd35780f",
   "metadata": {
    "id": "cd35780f"
   },
   "outputs": [],
   "source": [
    "#df_positive3=pd.DataFrame(sorted(positiveValues3.items(),key=lambda x:x[1],reverse=True))"
   ]
  },
  {
   "cell_type": "code",
   "execution_count": 38,
   "id": "91048ca4",
   "metadata": {
    "id": "91048ca4"
   },
   "outputs": [],
   "source": [
    "#pd1tri=df_positive3[0][:10]\n",
    "#pd2tri=df_positive3[1][:10]"
   ]
  },
  {
   "cell_type": "code",
   "execution_count": 39,
   "id": "8c2d3b9c",
   "metadata": {
    "id": "8c2d3b9c"
   },
   "outputs": [],
   "source": [
    "#plt.figure(1,figsize=(20,4))\n",
    "#plt.bar(pd1tri,pd2tri, color ='green',\n",
    "#        width = 0.4)\n",
    "#plt.xlabel(\"Words in positive dataframe\")\n",
    "#plt.ylabel(\"Count\")\n",
    "#plt.title(\"Top 10 words in positive dataframe-TRIGRAM ANALYSIS\")\n",
    "#plt.savefig(\"positive-trigram.png\")\n",
    "#plt.show()"
   ]
  },
  {
   "cell_type": "markdown",
   "id": "poEy8iYv-T0b",
   "metadata": {
    "id": "poEy8iYv-T0b"
   },
   "source": [
    "### **5.3 Applying TF-IDF vectorization**"
   ]
  },
  {
   "cell_type": "markdown",
   "id": "AHMETcIy8T_0",
   "metadata": {
    "id": "AHMETcIy8T_0"
   },
   "source": [
    "\n",
    "TF-IDF or ( Term Frequency(TF) — TF-IDF vectorization gives a numerical representation of words entirely dependent on the nature and number of documents being considered. The same words will have different vector representations in another corpus."
   ]
  },
  {
   "cell_type": "code",
   "execution_count": 40,
   "id": "fc5be350",
   "metadata": {
    "colab": {
     "base_uri": "https://localhost:8080/",
     "height": 236
    },
    "id": "fc5be350",
    "outputId": "56255da3-ad4b-4279-c2b4-e2dc1c96b5c7"
   },
   "outputs": [
    {
     "data": {
      "text/html": [
       "<div>\n",
       "<style scoped>\n",
       "    .dataframe tbody tr th:only-of-type {\n",
       "        vertical-align: middle;\n",
       "    }\n",
       "\n",
       "    .dataframe tbody tr th {\n",
       "        vertical-align: top;\n",
       "    }\n",
       "\n",
       "    .dataframe thead th {\n",
       "        text-align: right;\n",
       "    }\n",
       "</style>\n",
       "<table border=\"1\" class=\"dataframe\">\n",
       "  <thead>\n",
       "    <tr style=\"text-align: right;\">\n",
       "      <th></th>\n",
       "      <th>0</th>\n",
       "      <th>1</th>\n",
       "      <th>2</th>\n",
       "      <th>3</th>\n",
       "      <th>4</th>\n",
       "      <th>5</th>\n",
       "      <th>6</th>\n",
       "      <th>7</th>\n",
       "      <th>8</th>\n",
       "      <th>9</th>\n",
       "      <th>...</th>\n",
       "      <th>1490</th>\n",
       "      <th>1491</th>\n",
       "      <th>1492</th>\n",
       "      <th>1493</th>\n",
       "      <th>1494</th>\n",
       "      <th>1495</th>\n",
       "      <th>1496</th>\n",
       "      <th>1497</th>\n",
       "      <th>1498</th>\n",
       "      <th>1499</th>\n",
       "    </tr>\n",
       "  </thead>\n",
       "  <tbody>\n",
       "    <tr>\n",
       "      <th>0</th>\n",
       "      <td>0.0</td>\n",
       "      <td>0.0</td>\n",
       "      <td>0.000000</td>\n",
       "      <td>0.0</td>\n",
       "      <td>0.0</td>\n",
       "      <td>0.0</td>\n",
       "      <td>0.0</td>\n",
       "      <td>0.000000</td>\n",
       "      <td>0.0</td>\n",
       "      <td>0.0</td>\n",
       "      <td>...</td>\n",
       "      <td>0.0</td>\n",
       "      <td>0.0</td>\n",
       "      <td>0.0</td>\n",
       "      <td>0.00000</td>\n",
       "      <td>0.0</td>\n",
       "      <td>0.0</td>\n",
       "      <td>0.0</td>\n",
       "      <td>0.0</td>\n",
       "      <td>0.0</td>\n",
       "      <td>0.0</td>\n",
       "    </tr>\n",
       "    <tr>\n",
       "      <th>1</th>\n",
       "      <td>0.0</td>\n",
       "      <td>0.0</td>\n",
       "      <td>0.077797</td>\n",
       "      <td>0.0</td>\n",
       "      <td>0.0</td>\n",
       "      <td>0.0</td>\n",
       "      <td>0.0</td>\n",
       "      <td>0.000000</td>\n",
       "      <td>0.0</td>\n",
       "      <td>0.0</td>\n",
       "      <td>...</td>\n",
       "      <td>0.0</td>\n",
       "      <td>0.0</td>\n",
       "      <td>0.0</td>\n",
       "      <td>0.06655</td>\n",
       "      <td>0.0</td>\n",
       "      <td>0.0</td>\n",
       "      <td>0.0</td>\n",
       "      <td>0.0</td>\n",
       "      <td>0.0</td>\n",
       "      <td>0.0</td>\n",
       "    </tr>\n",
       "    <tr>\n",
       "      <th>2</th>\n",
       "      <td>0.0</td>\n",
       "      <td>0.0</td>\n",
       "      <td>0.092969</td>\n",
       "      <td>0.0</td>\n",
       "      <td>0.0</td>\n",
       "      <td>0.0</td>\n",
       "      <td>0.0</td>\n",
       "      <td>0.000000</td>\n",
       "      <td>0.0</td>\n",
       "      <td>0.0</td>\n",
       "      <td>...</td>\n",
       "      <td>0.0</td>\n",
       "      <td>0.0</td>\n",
       "      <td>0.0</td>\n",
       "      <td>0.00000</td>\n",
       "      <td>0.0</td>\n",
       "      <td>0.0</td>\n",
       "      <td>0.0</td>\n",
       "      <td>0.0</td>\n",
       "      <td>0.0</td>\n",
       "      <td>0.0</td>\n",
       "    </tr>\n",
       "    <tr>\n",
       "      <th>3</th>\n",
       "      <td>0.0</td>\n",
       "      <td>0.0</td>\n",
       "      <td>0.000000</td>\n",
       "      <td>0.0</td>\n",
       "      <td>0.0</td>\n",
       "      <td>0.0</td>\n",
       "      <td>0.0</td>\n",
       "      <td>0.000000</td>\n",
       "      <td>0.0</td>\n",
       "      <td>0.0</td>\n",
       "      <td>...</td>\n",
       "      <td>0.0</td>\n",
       "      <td>0.0</td>\n",
       "      <td>0.0</td>\n",
       "      <td>0.00000</td>\n",
       "      <td>0.0</td>\n",
       "      <td>0.0</td>\n",
       "      <td>0.0</td>\n",
       "      <td>0.0</td>\n",
       "      <td>0.0</td>\n",
       "      <td>0.0</td>\n",
       "    </tr>\n",
       "    <tr>\n",
       "      <th>4</th>\n",
       "      <td>0.0</td>\n",
       "      <td>0.0</td>\n",
       "      <td>0.000000</td>\n",
       "      <td>0.0</td>\n",
       "      <td>0.0</td>\n",
       "      <td>0.0</td>\n",
       "      <td>0.0</td>\n",
       "      <td>0.076697</td>\n",
       "      <td>0.0</td>\n",
       "      <td>0.0</td>\n",
       "      <td>...</td>\n",
       "      <td>0.0</td>\n",
       "      <td>0.0</td>\n",
       "      <td>0.0</td>\n",
       "      <td>0.00000</td>\n",
       "      <td>0.0</td>\n",
       "      <td>0.0</td>\n",
       "      <td>0.0</td>\n",
       "      <td>0.0</td>\n",
       "      <td>0.0</td>\n",
       "      <td>0.0</td>\n",
       "    </tr>\n",
       "  </tbody>\n",
       "</table>\n",
       "<p>5 rows × 1500 columns</p>\n",
       "</div>"
      ],
      "text/plain": [
       "   0     1         2     3     4     5     6         7     8     9     ...  \\\n",
       "0   0.0   0.0  0.000000   0.0   0.0   0.0   0.0  0.000000   0.0   0.0  ...   \n",
       "1   0.0   0.0  0.077797   0.0   0.0   0.0   0.0  0.000000   0.0   0.0  ...   \n",
       "2   0.0   0.0  0.092969   0.0   0.0   0.0   0.0  0.000000   0.0   0.0  ...   \n",
       "3   0.0   0.0  0.000000   0.0   0.0   0.0   0.0  0.000000   0.0   0.0  ...   \n",
       "4   0.0   0.0  0.000000   0.0   0.0   0.0   0.0  0.076697   0.0   0.0  ...   \n",
       "\n",
       "   1490  1491  1492     1493  1494  1495  1496  1497  1498  1499  \n",
       "0   0.0   0.0   0.0  0.00000   0.0   0.0   0.0   0.0   0.0   0.0  \n",
       "1   0.0   0.0   0.0  0.06655   0.0   0.0   0.0   0.0   0.0   0.0  \n",
       "2   0.0   0.0   0.0  0.00000   0.0   0.0   0.0   0.0   0.0   0.0  \n",
       "3   0.0   0.0   0.0  0.00000   0.0   0.0   0.0   0.0   0.0   0.0  \n",
       "4   0.0   0.0   0.0  0.00000   0.0   0.0   0.0   0.0   0.0   0.0  \n",
       "\n",
       "[5 rows x 1500 columns]"
      ]
     },
     "execution_count": 40,
     "metadata": {},
     "output_type": "execute_result"
    }
   ],
   "source": [
    "from sklearn.feature_extraction.text import TfidfVectorizer\n",
    "tfidf = TfidfVectorizer(ngram_range=(1, 3), max_features=1500, tokenizer = word_tokenize)#max features create feature matrix with the most frequently occuring words.(40000 columns)\n",
    "x = tfidf.fit_transform(cleaned_data).toarray()\n",
    "x_features=pd.DataFrame(x)\n",
    "x_features.head(5)"
   ]
  },
  {
   "cell_type": "code",
   "execution_count": 41,
   "id": "adXZpFC8Z-l2",
   "metadata": {
    "colab": {
     "base_uri": "https://localhost:8080/",
     "height": 236
    },
    "id": "adXZpFC8Z-l2",
    "outputId": "c5b62dbf-fd7a-4452-8393-c693f31124ec"
   },
   "outputs": [
    {
     "data": {
      "text/html": [
       "<div>\n",
       "<style scoped>\n",
       "    .dataframe tbody tr th:only-of-type {\n",
       "        vertical-align: middle;\n",
       "    }\n",
       "\n",
       "    .dataframe tbody tr th {\n",
       "        vertical-align: top;\n",
       "    }\n",
       "\n",
       "    .dataframe thead th {\n",
       "        text-align: right;\n",
       "    }\n",
       "</style>\n",
       "<table border=\"1\" class=\"dataframe\">\n",
       "  <thead>\n",
       "    <tr style=\"text-align: right;\">\n",
       "      <th></th>\n",
       "      <th>Polarity</th>\n",
       "      <th>0</th>\n",
       "      <th>1</th>\n",
       "      <th>2</th>\n",
       "      <th>3</th>\n",
       "      <th>4</th>\n",
       "      <th>5</th>\n",
       "      <th>6</th>\n",
       "      <th>7</th>\n",
       "      <th>8</th>\n",
       "      <th>...</th>\n",
       "      <th>1490</th>\n",
       "      <th>1491</th>\n",
       "      <th>1492</th>\n",
       "      <th>1493</th>\n",
       "      <th>1494</th>\n",
       "      <th>1495</th>\n",
       "      <th>1496</th>\n",
       "      <th>1497</th>\n",
       "      <th>1498</th>\n",
       "      <th>1499</th>\n",
       "    </tr>\n",
       "  </thead>\n",
       "  <tbody>\n",
       "    <tr>\n",
       "      <th>0</th>\n",
       "      <td>positive</td>\n",
       "      <td>0.0</td>\n",
       "      <td>0.0</td>\n",
       "      <td>0.000000</td>\n",
       "      <td>0.0</td>\n",
       "      <td>0.0</td>\n",
       "      <td>0.0</td>\n",
       "      <td>0.0</td>\n",
       "      <td>0.000000</td>\n",
       "      <td>0.0</td>\n",
       "      <td>...</td>\n",
       "      <td>0.0</td>\n",
       "      <td>0.0</td>\n",
       "      <td>0.0</td>\n",
       "      <td>0.00000</td>\n",
       "      <td>0.0</td>\n",
       "      <td>0.0</td>\n",
       "      <td>0.0</td>\n",
       "      <td>0.0</td>\n",
       "      <td>0.0</td>\n",
       "      <td>0.0</td>\n",
       "    </tr>\n",
       "    <tr>\n",
       "      <th>1</th>\n",
       "      <td>positive</td>\n",
       "      <td>0.0</td>\n",
       "      <td>0.0</td>\n",
       "      <td>0.077797</td>\n",
       "      <td>0.0</td>\n",
       "      <td>0.0</td>\n",
       "      <td>0.0</td>\n",
       "      <td>0.0</td>\n",
       "      <td>0.000000</td>\n",
       "      <td>0.0</td>\n",
       "      <td>...</td>\n",
       "      <td>0.0</td>\n",
       "      <td>0.0</td>\n",
       "      <td>0.0</td>\n",
       "      <td>0.06655</td>\n",
       "      <td>0.0</td>\n",
       "      <td>0.0</td>\n",
       "      <td>0.0</td>\n",
       "      <td>0.0</td>\n",
       "      <td>0.0</td>\n",
       "      <td>0.0</td>\n",
       "    </tr>\n",
       "    <tr>\n",
       "      <th>2</th>\n",
       "      <td>positive</td>\n",
       "      <td>0.0</td>\n",
       "      <td>0.0</td>\n",
       "      <td>0.092969</td>\n",
       "      <td>0.0</td>\n",
       "      <td>0.0</td>\n",
       "      <td>0.0</td>\n",
       "      <td>0.0</td>\n",
       "      <td>0.000000</td>\n",
       "      <td>0.0</td>\n",
       "      <td>...</td>\n",
       "      <td>0.0</td>\n",
       "      <td>0.0</td>\n",
       "      <td>0.0</td>\n",
       "      <td>0.00000</td>\n",
       "      <td>0.0</td>\n",
       "      <td>0.0</td>\n",
       "      <td>0.0</td>\n",
       "      <td>0.0</td>\n",
       "      <td>0.0</td>\n",
       "      <td>0.0</td>\n",
       "    </tr>\n",
       "    <tr>\n",
       "      <th>3</th>\n",
       "      <td>positive</td>\n",
       "      <td>0.0</td>\n",
       "      <td>0.0</td>\n",
       "      <td>0.000000</td>\n",
       "      <td>0.0</td>\n",
       "      <td>0.0</td>\n",
       "      <td>0.0</td>\n",
       "      <td>0.0</td>\n",
       "      <td>0.000000</td>\n",
       "      <td>0.0</td>\n",
       "      <td>...</td>\n",
       "      <td>0.0</td>\n",
       "      <td>0.0</td>\n",
       "      <td>0.0</td>\n",
       "      <td>0.00000</td>\n",
       "      <td>0.0</td>\n",
       "      <td>0.0</td>\n",
       "      <td>0.0</td>\n",
       "      <td>0.0</td>\n",
       "      <td>0.0</td>\n",
       "      <td>0.0</td>\n",
       "    </tr>\n",
       "    <tr>\n",
       "      <th>4</th>\n",
       "      <td>positive</td>\n",
       "      <td>0.0</td>\n",
       "      <td>0.0</td>\n",
       "      <td>0.000000</td>\n",
       "      <td>0.0</td>\n",
       "      <td>0.0</td>\n",
       "      <td>0.0</td>\n",
       "      <td>0.0</td>\n",
       "      <td>0.076697</td>\n",
       "      <td>0.0</td>\n",
       "      <td>...</td>\n",
       "      <td>0.0</td>\n",
       "      <td>0.0</td>\n",
       "      <td>0.0</td>\n",
       "      <td>0.00000</td>\n",
       "      <td>0.0</td>\n",
       "      <td>0.0</td>\n",
       "      <td>0.0</td>\n",
       "      <td>0.0</td>\n",
       "      <td>0.0</td>\n",
       "      <td>0.0</td>\n",
       "    </tr>\n",
       "  </tbody>\n",
       "</table>\n",
       "<p>5 rows × 1501 columns</p>\n",
       "</div>"
      ],
      "text/plain": [
       "   Polarity    0    1         2    3    4    5    6         7    8  ...  1490  \\\n",
       "0  positive  0.0  0.0  0.000000  0.0  0.0  0.0  0.0  0.000000  0.0  ...   0.0   \n",
       "1  positive  0.0  0.0  0.077797  0.0  0.0  0.0  0.0  0.000000  0.0  ...   0.0   \n",
       "2  positive  0.0  0.0  0.092969  0.0  0.0  0.0  0.0  0.000000  0.0  ...   0.0   \n",
       "3  positive  0.0  0.0  0.000000  0.0  0.0  0.0  0.0  0.000000  0.0  ...   0.0   \n",
       "4  positive  0.0  0.0  0.000000  0.0  0.0  0.0  0.0  0.076697  0.0  ...   0.0   \n",
       "\n",
       "   1491  1492     1493  1494  1495  1496  1497  1498  1499  \n",
       "0   0.0   0.0  0.00000   0.0   0.0   0.0   0.0   0.0   0.0  \n",
       "1   0.0   0.0  0.06655   0.0   0.0   0.0   0.0   0.0   0.0  \n",
       "2   0.0   0.0  0.00000   0.0   0.0   0.0   0.0   0.0   0.0  \n",
       "3   0.0   0.0  0.00000   0.0   0.0   0.0   0.0   0.0   0.0  \n",
       "4   0.0   0.0  0.00000   0.0   0.0   0.0   0.0   0.0   0.0  \n",
       "\n",
       "[5 rows x 1501 columns]"
      ]
     },
     "execution_count": 41,
     "metadata": {},
     "output_type": "execute_result"
    }
   ],
   "source": [
    "Reviews=pd.concat([df[\"Polarity\"],x_features],axis=1)\n",
    "Reviews.shape\n",
    "Reviews.head(5)\n",
    "#x.head()"
   ]
  },
  {
   "cell_type": "markdown",
   "id": "JgRq_zCDAK_2",
   "metadata": {
    "id": "JgRq_zCDAK_2"
   },
   "source": [
    "### **5.4 Label Encoding**"
   ]
  },
  {
   "cell_type": "code",
   "execution_count": 42,
   "id": "CjRllXjXFkka",
   "metadata": {
    "id": "CjRllXjXFkka"
   },
   "outputs": [],
   "source": [
    "from sklearn.preprocessing import LabelEncoder"
   ]
  },
  {
   "cell_type": "code",
   "execution_count": 43,
   "id": "imFFimcQiJal",
   "metadata": {
    "id": "imFFimcQiJal"
   },
   "outputs": [],
   "source": [
    "le = LabelEncoder()\n",
    "for col in Reviews.select_dtypes(include='O').columns:\n",
    "    Reviews[col]=le.fit_transform(Reviews[col])\n",
    "for col in Reviews.columns:\n",
    "    Reviews[col]=Reviews[col].astype(float)"
   ]
  },
  {
   "cell_type": "code",
   "execution_count": 44,
   "id": "yRsWAV-wiYLM",
   "metadata": {
    "colab": {
     "base_uri": "https://localhost:8080/",
     "height": 236
    },
    "id": "yRsWAV-wiYLM",
    "outputId": "f7a1e522-2afc-4a90-b0e5-d81c5590b983"
   },
   "outputs": [
    {
     "data": {
      "text/html": [
       "<div>\n",
       "<style scoped>\n",
       "    .dataframe tbody tr th:only-of-type {\n",
       "        vertical-align: middle;\n",
       "    }\n",
       "\n",
       "    .dataframe tbody tr th {\n",
       "        vertical-align: top;\n",
       "    }\n",
       "\n",
       "    .dataframe thead th {\n",
       "        text-align: right;\n",
       "    }\n",
       "</style>\n",
       "<table border=\"1\" class=\"dataframe\">\n",
       "  <thead>\n",
       "    <tr style=\"text-align: right;\">\n",
       "      <th></th>\n",
       "      <th>Polarity</th>\n",
       "      <th>0</th>\n",
       "      <th>1</th>\n",
       "      <th>2</th>\n",
       "      <th>3</th>\n",
       "      <th>4</th>\n",
       "      <th>5</th>\n",
       "      <th>6</th>\n",
       "      <th>7</th>\n",
       "      <th>8</th>\n",
       "      <th>...</th>\n",
       "      <th>1490</th>\n",
       "      <th>1491</th>\n",
       "      <th>1492</th>\n",
       "      <th>1493</th>\n",
       "      <th>1494</th>\n",
       "      <th>1495</th>\n",
       "      <th>1496</th>\n",
       "      <th>1497</th>\n",
       "      <th>1498</th>\n",
       "      <th>1499</th>\n",
       "    </tr>\n",
       "  </thead>\n",
       "  <tbody>\n",
       "    <tr>\n",
       "      <th>0</th>\n",
       "      <td>2.0</td>\n",
       "      <td>0.0</td>\n",
       "      <td>0.0</td>\n",
       "      <td>0.000000</td>\n",
       "      <td>0.0</td>\n",
       "      <td>0.0</td>\n",
       "      <td>0.0</td>\n",
       "      <td>0.0</td>\n",
       "      <td>0.000000</td>\n",
       "      <td>0.0</td>\n",
       "      <td>...</td>\n",
       "      <td>0.0</td>\n",
       "      <td>0.0</td>\n",
       "      <td>0.0</td>\n",
       "      <td>0.00000</td>\n",
       "      <td>0.0</td>\n",
       "      <td>0.0</td>\n",
       "      <td>0.0</td>\n",
       "      <td>0.0</td>\n",
       "      <td>0.0</td>\n",
       "      <td>0.0</td>\n",
       "    </tr>\n",
       "    <tr>\n",
       "      <th>1</th>\n",
       "      <td>2.0</td>\n",
       "      <td>0.0</td>\n",
       "      <td>0.0</td>\n",
       "      <td>0.077797</td>\n",
       "      <td>0.0</td>\n",
       "      <td>0.0</td>\n",
       "      <td>0.0</td>\n",
       "      <td>0.0</td>\n",
       "      <td>0.000000</td>\n",
       "      <td>0.0</td>\n",
       "      <td>...</td>\n",
       "      <td>0.0</td>\n",
       "      <td>0.0</td>\n",
       "      <td>0.0</td>\n",
       "      <td>0.06655</td>\n",
       "      <td>0.0</td>\n",
       "      <td>0.0</td>\n",
       "      <td>0.0</td>\n",
       "      <td>0.0</td>\n",
       "      <td>0.0</td>\n",
       "      <td>0.0</td>\n",
       "    </tr>\n",
       "    <tr>\n",
       "      <th>2</th>\n",
       "      <td>2.0</td>\n",
       "      <td>0.0</td>\n",
       "      <td>0.0</td>\n",
       "      <td>0.092969</td>\n",
       "      <td>0.0</td>\n",
       "      <td>0.0</td>\n",
       "      <td>0.0</td>\n",
       "      <td>0.0</td>\n",
       "      <td>0.000000</td>\n",
       "      <td>0.0</td>\n",
       "      <td>...</td>\n",
       "      <td>0.0</td>\n",
       "      <td>0.0</td>\n",
       "      <td>0.0</td>\n",
       "      <td>0.00000</td>\n",
       "      <td>0.0</td>\n",
       "      <td>0.0</td>\n",
       "      <td>0.0</td>\n",
       "      <td>0.0</td>\n",
       "      <td>0.0</td>\n",
       "      <td>0.0</td>\n",
       "    </tr>\n",
       "    <tr>\n",
       "      <th>3</th>\n",
       "      <td>2.0</td>\n",
       "      <td>0.0</td>\n",
       "      <td>0.0</td>\n",
       "      <td>0.000000</td>\n",
       "      <td>0.0</td>\n",
       "      <td>0.0</td>\n",
       "      <td>0.0</td>\n",
       "      <td>0.0</td>\n",
       "      <td>0.000000</td>\n",
       "      <td>0.0</td>\n",
       "      <td>...</td>\n",
       "      <td>0.0</td>\n",
       "      <td>0.0</td>\n",
       "      <td>0.0</td>\n",
       "      <td>0.00000</td>\n",
       "      <td>0.0</td>\n",
       "      <td>0.0</td>\n",
       "      <td>0.0</td>\n",
       "      <td>0.0</td>\n",
       "      <td>0.0</td>\n",
       "      <td>0.0</td>\n",
       "    </tr>\n",
       "    <tr>\n",
       "      <th>4</th>\n",
       "      <td>2.0</td>\n",
       "      <td>0.0</td>\n",
       "      <td>0.0</td>\n",
       "      <td>0.000000</td>\n",
       "      <td>0.0</td>\n",
       "      <td>0.0</td>\n",
       "      <td>0.0</td>\n",
       "      <td>0.0</td>\n",
       "      <td>0.076697</td>\n",
       "      <td>0.0</td>\n",
       "      <td>...</td>\n",
       "      <td>0.0</td>\n",
       "      <td>0.0</td>\n",
       "      <td>0.0</td>\n",
       "      <td>0.00000</td>\n",
       "      <td>0.0</td>\n",
       "      <td>0.0</td>\n",
       "      <td>0.0</td>\n",
       "      <td>0.0</td>\n",
       "      <td>0.0</td>\n",
       "      <td>0.0</td>\n",
       "    </tr>\n",
       "  </tbody>\n",
       "</table>\n",
       "<p>5 rows × 1501 columns</p>\n",
       "</div>"
      ],
      "text/plain": [
       "   Polarity    0    1         2    3    4    5    6         7    8  ...  1490  \\\n",
       "0       2.0  0.0  0.0  0.000000  0.0  0.0  0.0  0.0  0.000000  0.0  ...   0.0   \n",
       "1       2.0  0.0  0.0  0.077797  0.0  0.0  0.0  0.0  0.000000  0.0  ...   0.0   \n",
       "2       2.0  0.0  0.0  0.092969  0.0  0.0  0.0  0.0  0.000000  0.0  ...   0.0   \n",
       "3       2.0  0.0  0.0  0.000000  0.0  0.0  0.0  0.0  0.000000  0.0  ...   0.0   \n",
       "4       2.0  0.0  0.0  0.000000  0.0  0.0  0.0  0.0  0.076697  0.0  ...   0.0   \n",
       "\n",
       "   1491  1492     1493  1494  1495  1496  1497  1498  1499  \n",
       "0   0.0   0.0  0.00000   0.0   0.0   0.0   0.0   0.0   0.0  \n",
       "1   0.0   0.0  0.06655   0.0   0.0   0.0   0.0   0.0   0.0  \n",
       "2   0.0   0.0  0.00000   0.0   0.0   0.0   0.0   0.0   0.0  \n",
       "3   0.0   0.0  0.00000   0.0   0.0   0.0   0.0   0.0   0.0  \n",
       "4   0.0   0.0  0.00000   0.0   0.0   0.0   0.0   0.0   0.0  \n",
       "\n",
       "[5 rows x 1501 columns]"
      ]
     },
     "execution_count": 44,
     "metadata": {},
     "output_type": "execute_result"
    }
   ],
   "source": [
    "Reviews.head(5)"
   ]
  },
  {
   "cell_type": "code",
   "execution_count": 45,
   "id": "y_13V5RvsT0K",
   "metadata": {
    "colab": {
     "base_uri": "https://localhost:8080/"
    },
    "id": "y_13V5RvsT0K",
    "outputId": "9b6c43a2-7e11-408a-9381-f06f0d0f43f5"
   },
   "outputs": [
    {
     "data": {
      "text/plain": [
       "2.0    14770\n",
       "1.0     5479\n",
       "0.0      242\n",
       "Name: Polarity, dtype: int64"
      ]
     },
     "execution_count": 45,
     "metadata": {},
     "output_type": "execute_result"
    }
   ],
   "source": [
    "Reviews.Polarity.value_counts()"
   ]
  },
  {
   "cell_type": "code",
   "execution_count": 46,
   "id": "8kjYZdso6RCR",
   "metadata": {
    "id": "8kjYZdso6RCR"
   },
   "outputs": [],
   "source": [
    "# Assigning the target variable.\n",
    "x=Reviews.iloc[:,1:len(Reviews.columns)]\n",
    "y=Reviews.iloc[:,0]"
   ]
  },
  {
   "cell_type": "markdown",
   "id": "0TqOJ3pPCDET",
   "metadata": {
    "id": "0TqOJ3pPCDET"
   },
   "source": [
    "### **5.5 Handling Imbalanced Data Set**"
   ]
  },
  {
   "cell_type": "code",
   "execution_count": 47,
   "id": "DzX-OyNtc0Vo",
   "metadata": {
    "id": "DzX-OyNtc0Vo"
   },
   "outputs": [],
   "source": [
    "# Checking different imbalance data handling technique with Different Classifiers\n",
    "\n",
    "classifiers = [\n",
    "               LogisticRegression(random_state=1),\n",
    "#               GaussianNB(),\n",
    "               #LinearSVC(random_state=1),\n",
    "#               KNeighborsClassifier(),\n",
    "#               DecisionTreeClassifier(random_state=1),\n",
    "#               RandomForestClassifier(random_state=1),\n",
    "#               XGBClassifier(random_state=1)\n",
    "]\n",
    "\n",
    "for clf in classifiers:\n",
    "  rec = []\n",
    "  acc = []\n",
    "  pres = []\n",
    "  f1 = []\n",
    "  roc = []\n",
    "  sampl = []\n",
    "\n",
    "  #actual data without resampling\n",
    "  clf.fit(x, y)\n",
    "  pred = clf.predict(x)\n",
    "  acc.append(accuracy_score(y, pred))\n",
    "  rec.append(recall_score(y, pred,average='macro'))\n",
    "  pres.append(precision_score(y, pred,average='macro'))\n",
    "  f1.append(f1_score(y, pred,average='macro'))\n",
    "  sampl.append('OriginalData')\n",
    "\n",
    "  def resample_eval(resample_method, clf):\n",
    "    x_res, y_res = resample_method.fit_resample(x, y.ravel())\n",
    "    clf.fit(x_res, y_res)\n",
    "    y_pred = clf.predict(x_res)\n",
    "    acc.append(accuracy_score(y_res, y_pred))\n",
    "    rec.append(recall_score(y_res, y_pred,average='macro'))\n",
    "    pres.append(precision_score(y_res, y_pred,average='macro'))\n",
    "    f1.append(f1_score(y_res, y_pred,average='macro'))\n",
    "    sampl.append(resample_method.__class__.__name__)\n",
    "    \n",
    "  resamplers = [SMOTE(sampling_strategy='minority',random_state=1)\n",
    "#                 RandomOverSampler(sampling_strategy='minority',random_state=1),\n",
    "#                ADASYN(sampling_strategy='minority',random_state=1),\n",
    "                ]\n",
    "\n",
    "  for resampler in resamplers:\n",
    "    resample_eval(resampler, clf)\n",
    "  df_name = f'res_df_{clf.__class__.__name__}'\n",
    "  vars()[df_name] = pd.DataFrame({'sampl':sampl,'acc':acc,'recall':rec,'pres': pres,'f1':f1})\n"
   ]
  },
  {
   "cell_type": "code",
   "execution_count": 48,
   "id": "spxYcagpRR24",
   "metadata": {
    "colab": {
     "base_uri": "https://localhost:8080/",
     "height": 848
    },
    "id": "spxYcagpRR24",
    "outputId": "1bb9565a-0633-4bf0-dd00-556095e8269d"
   },
   "outputs": [
    {
     "data": {
      "text/plain": [
       "<matplotlib.legend.Legend at 0x21d9bba1c70>"
      ]
     },
     "execution_count": 48,
     "metadata": {},
     "output_type": "execute_result"
    },
    {
     "data": {
      "image/png": "[encoded data removed]",
      "text/plain": [
       "<Figure size 2160x1440 with 7 Axes>"
      ]
     },
     "metadata": {
      "needs_background": "light"
     },
     "output_type": "display_data"
    }
   ],
   "source": [
    "# Set up the axis with gridspec\n",
    "fig = plt.figure(figsize=(30, 20))\n",
    "bar_width = 0.35\n",
    "opacity = 0.8\n",
    "grid = plt.GridSpec(2, 4, wspace=0.4, hspace=0.3)\n",
    "ax1 = fig.add_subplot(grid[0,0])\n",
    "ax2 = fig.add_subplot(grid[0, 1])\n",
    "ax3 = fig.add_subplot(grid[0, 2])\n",
    "ax4 = fig.add_subplot(grid[1, 0])\n",
    "ax5 = fig.add_subplot(grid[1, 1])\n",
    "ax6 = fig.add_subplot(grid[1, 2])\n",
    "ax7 = fig.add_subplot(grid[0, 3])\n",
    "#LogisticRegression\n",
    "ax1.bar(res_df_LogisticRegression.index, res_df_LogisticRegression.recall, bar_width, alpha=opacity, color='b',label='recall')\n",
    "ax1.bar(res_df_LogisticRegression.index + bar_width, res_df_LogisticRegression.acc, bar_width, alpha=opacity, color='r', label='acc')\n",
    "plt.sca(ax1)\n",
    "plt.xlabel('Resamplers')\n",
    "plt.ylabel('Scores')\n",
    "plt.title('LogisticRegression Classifier - Resampler Evaluation')\n",
    "plt.xticks(res_df_LogisticRegression.index + bar_width, res_df_LogisticRegression.sampl, rotation='vertical')\n",
    "plt.legend()\n",
    "\n",
    "#GaussianNB\n",
    "#ax2.bar(res_df_GaussianNB.index, res_df_GaussianNB.recall, bar_width, alpha=opacity, color='b',label='recall')\n",
    "#ax2.bar(res_df_GaussianNB.index + bar_width, res_df_GaussianNB.acc, bar_width, alpha=opacity, color='r', label='acc')\n",
    "#plt.sca(ax2)\n",
    "#plt.xlabel('Resamplers')\n",
    "#plt.ylabel('Scores')\n",
    "#plt.title('GaussianNB Classifier - Resampler Evaluation')\n",
    "#plt.xticks(res_df_GaussianNB.index + bar_width, res_df_GaussianNB.sampl, rotation='vertical')\n",
    "#plt.legend()\n",
    "\n",
    "#LinearSVC\n",
    "#ax3.bar(res_df_LinearSVC.index, res_df_LinearSVC.recall, bar_width, alpha=opacity, color='b',label='recall')\n",
    "#ax3.bar(res_df_LinearSVC.index + bar_width, res_df_LinearSVC.acc, bar_width, alpha=opacity, color='r', label='acc')\n",
    "#plt.sca(ax3)\n",
    "#plt.xlabel('Resamplers')\n",
    "#plt.ylabel('Scores')\n",
    "#plt.title('LinearSVC Classifier - Resampler Evaluation')\n",
    "#plt.xticks(res_df_LinearSVC.index + bar_width,res_df_LinearSVC.sampl, rotation='vertical')\n",
    "#plt.legend()\n",
    "\n",
    "#KNeighborsClassifier\n",
    "#ax4.bar(res_df_KNeighborsClassifier.index, res_df_KNeighborsClassifier.recall, bar_width, alpha=opacity, color='b',label='recall')\n",
    "#ax4.bar(res_df_KNeighborsClassifier.index + bar_width, res_df_KNeighborsClassifier.acc, bar_width, alpha=opacity, color='r', label='acc')\n",
    "#plt.sca(ax4)\n",
    "#plt.xlabel('Resamplers')\n",
    "#plt.ylabel('Scores')\n",
    "#plt.title('KNeighborsClassifier Classifier - Resampler Evaluation')\n",
    "#plt.xticks(res_df_KNeighborsClassifier.index + bar_width, res_df_KNeighborsClassifier.sampl, rotation='vertical')\n",
    "#plt.legend()\n",
    "\n",
    "#DecisionTreeClassifier\n",
    "#ax5.bar(res_df_DecisionTreeClassifier.index, res_df_DecisionTreeClassifier.recall, bar_width, alpha=opacity, color='b',label='recall')\n",
    "#ax5.bar(res_df_DecisionTreeClassifier.index + bar_width, res_df_DecisionTreeClassifier.acc, bar_width, alpha=opacity, color='r', label='acc')\n",
    "#plt.sca(ax5)\n",
    "#plt.xlabel('Resamplers')\n",
    "#plt.ylabel('Scores')\n",
    "#plt.title('DecisionTreeClassifier Classifier - Resampler Evaluation')\n",
    "#plt.xticks(res_df_DecisionTreeClassifier.index + bar_width, res_df_DecisionTreeClassifier.sampl, rotation='vertical')\n",
    "#plt.legend()\n",
    "\n",
    "#RandomForestClassifier\n",
    "#ax6.bar(res_df_RandomForestClassifier.index, res_df_RandomForestClassifier.recall, bar_width, alpha=opacity, color='b',label='recall')\n",
    "#ax6.bar(res_df_RandomForestClassifier.index + bar_width, res_df_RandomForestClassifier.acc, bar_width, alpha=opacity, color='r', label='acc')\n",
    "#plt.sca(ax6)\n",
    "#plt.xlabel('Resamplers')\n",
    "#plt.ylabel('Scores')\n",
    "#plt.title('Random Forest Classifier - Resampler Evaluation')\n",
    "#plt.xticks(res_df_RandomForestClassifier.index + bar_width, res_df_RandomForestClassifier.sampl, rotation='vertical')\n",
    "#plt.legend()\n",
    "\n",
    "#XGBClassifier\n",
    "#ax7.bar(res_df_XGBClassifier.index, res_df_RandomForestClassifier.recall, bar_width, alpha=opacity, color='b',label='recall')\n",
    "#ax7.bar(res_df_XGBClassifier.index + bar_width, res_df_XGBClassifier.acc, bar_width, alpha=opacity, color='r', label='acc')\n",
    "#plt.sca(ax7)\n",
    "#plt.xlabel('Resamplers')\n",
    "#plt.ylabel('Scores')\n",
    "#plt.title('XGB Classifier - Resampler Evaluation')\n",
    "#plt.xticks(res_df_XGBClassifier.index + bar_width, res_df_XGBClassifier.sampl, rotation='vertical')\n",
    "#plt.legend()\n"
   ]
  },
  {
   "cell_type": "code",
   "execution_count": 49,
   "id": "NNn3QQZ8RRq3",
   "metadata": {
    "id": "NNn3QQZ8RRq3"
   },
   "outputs": [],
   "source": [
    "# selecting SMOTE resample technique to handle imbalance dataset"
   ]
  },
  {
   "cell_type": "code",
   "execution_count": 50,
   "id": "__k9inF2A8fO",
   "metadata": {
    "id": "__k9inF2A8fO"
   },
   "outputs": [],
   "source": [
    "from imblearn.over_sampling import SMOTE\n",
    "from collections import Counter\n",
    "\n",
    "sm = SMOTE(random_state=42)\n",
    "x_res, y_res = sm.fit_resample(x,y)"
   ]
  },
  {
   "cell_type": "code",
   "execution_count": 51,
   "id": "q3Wb76PVBE38",
   "metadata": {
    "colab": {
     "base_uri": "https://localhost:8080/"
    },
    "id": "q3Wb76PVBE38",
    "outputId": "02671893-abe5-4983-b219-fac1792bd9cf"
   },
   "outputs": [
    {
     "name": "stdout",
     "output_type": "stream",
     "text": [
      "Shape of Future Matrix: (20491, 1500)\n",
      "Shape of Target Vector: (20491,)\n",
      "Oversampled Target Variable Distribution: Counter({2.0: 14770, 1.0: 14770, 0.0: 14770})\n"
     ]
    }
   ],
   "source": [
    "print('Shape of Future Matrix:',x.shape)\n",
    "\n",
    "print('Shape of Target Vector:',y.shape)\n",
    "\n",
    "print('Oversampled Target Variable Distribution:',Counter(y_res))\n"
   ]
  },
  {
   "cell_type": "code",
   "execution_count": 52,
   "id": "PAEHrfh7VI6d",
   "metadata": {
    "colab": {
     "base_uri": "https://localhost:8080/",
     "height": 264
    },
    "id": "PAEHrfh7VI6d",
    "outputId": "0bc94071-0305-4cee-8b77-2a47867be548"
   },
   "outputs": [
    {
     "data": {
      "image/png": "[encoded data removed]",
      "text/plain": [
       "<Figure size 432x288 with 1 Axes>"
      ]
     },
     "metadata": {},
     "output_type": "display_data"
    }
   ],
   "source": [
    "#plot After oversampling\n",
    "ax = y_res.value_counts().plot.pie(autopct='%.2f')\n",
    "_ = ax.set_title(\"Over-sampling\")"
   ]
  },
  {
   "cell_type": "code",
   "execution_count": 53,
   "id": "kEUdt7Ie22MQ",
   "metadata": {
    "id": "kEUdt7Ie22MQ"
   },
   "outputs": [],
   "source": [
    "x=x_res\n",
    "y=y_res\n",
    "y2=y.values.reshape(1,-1)\n"
   ]
  },
  {
   "cell_type": "code",
   "execution_count": 54,
   "id": "I_UhJMPn3PcL",
   "metadata": {
    "colab": {
     "base_uri": "https://localhost:8080/"
    },
    "id": "I_UhJMPn3PcL",
    "outputId": "65a7af10-52fe-4a32-dd93-291ca913d32b"
   },
   "outputs": [
    {
     "name": "stdout",
     "output_type": "stream",
     "text": [
      "Number transactions x_train dataset:  (35448, 1500)\n",
      "Number transactions y_train dataset:  (35448,)\n",
      "Number transactions x_test dataset:  (8862, 1500)\n",
      "Number transactions y_test dataset:  (8862,)\n"
     ]
    }
   ],
   "source": [
    "#Split dataset into training and testing\n",
    "\n",
    "x_train,x_test, y_train,y_test = train_test_split(x, y, test_size=0.2, random_state=1, stratify=y)\n",
    "print(\"Number transactions x_train dataset: \", x_train.shape)\n",
    "print(\"Number transactions y_train dataset: \", y_train.shape)\n",
    "print(\"Number transactions x_test dataset: \", x_test.shape)\n",
    "print(\"Number transactions y_test dataset: \", y_test.shape)"
   ]
  },
  {
   "cell_type": "markdown",
   "id": "KRCA3NId5yao",
   "metadata": {
    "id": "KRCA3NId5yao"
   },
   "source": [
    "## **6. Model Building**"
   ]
  },
  {
   "cell_type": "code",
   "execution_count": 55,
   "id": "ukzU581h5pb4",
   "metadata": {
    "id": "ukzU581h5pb4"
   },
   "outputs": [],
   "source": [
    "def evaluate_model(classifier):\n",
    "    y_pred_test = classifier.predict(x_test)\n",
    "    y_pred_train = classifier.predict(x_train)\n",
    "    \n",
    "    print(\"Train Accuracy : {0:0.4f}\".format(accuracy_score(y_train, y_pred_train)))\n",
    "    print(\"Test Accuracy : {0:0.4f}\".format(accuracy_score(y_test, y_pred_test)))\n",
    "    \n",
    "    # getting the count of each category\n",
    "    print(\"Count of each category:\")\n",
    "    print(pd.Series(y_pred_test).value_counts())\n",
    "    print(\"-\"*50)\n",
    "    \n",
    "    #Classification Report\n",
    "    print(\"Classification Report:\")\n",
    "    print(classification_report(y_pred_test,y_test))\n",
    "    print(\"-\"*50)\n",
    "    \n",
    "    #Plotting confusion matrix\n",
    "    print(\"Confusion Matrix:\")\n",
    "    print('Training Data')\n",
    "    print(confusion_matrix(y_train,y_pred_train))\n",
    "    print('Test Data')\n",
    "    print(confusion_matrix(y_test,y_pred_test))\n",
    "    \n",
    "    f,a =  plt.subplots(1,2,sharex=True,sharey=True,squeeze=False)\n",
    "\n",
    "    plot_0 = sns.heatmap((confusion_matrix(y_train,y_pred_train)),annot=True,fmt='.5g',cmap=\"GnBu\",ax=a[0][0]);\n",
    "    a[0][0].set_title('Training Data')\n",
    "\n",
    "    plot_1 = sns.heatmap((confusion_matrix(y_test,y_pred_test)),annot=True,fmt='.5g',cmap=\"GnBu\",ax=a[0][1]);\n",
    "    a[0][1].set_title('Test Data');"
   ]
  },
  {
   "cell_type": "code",
   "execution_count": 56,
   "id": "0HIyCbaV6jSE",
   "metadata": {
    "id": "0HIyCbaV6jSE"
   },
   "outputs": [],
   "source": [
    "# Models which does not require scaling\n",
    "\n",
    "MLA = [\n",
    "    #Ensemble Methods\n",
    "    #ensemble.AdaBoostClassifier(random_state=1),\n",
    "    #ensemble.GradientBoostingClassifier(random_state=1),\n",
    "    #ensemble.RandomForestClassifier(random_state=1),\n",
    "    \n",
    "    #GLM\n",
    "    linear_model.LogisticRegression(random_state=1),\n",
    "  \n",
    "    #Navies Bayes\n",
    "    #naive_bayes.GaussianNB(),\n",
    "        \n",
    "    #SVM\n",
    "    #svm.SVC(probability=True, random_state=1),\n",
    "    \n",
    "    #Trees    \n",
    "    #tree.DecisionTreeClassifier(random_state=1),    \n",
    "   \n",
    "    #xgboost\n",
    "    #XGBClassifier(random_state=1),\n",
    "      \n",
    "    ]\n",
    "\n",
    "\n",
    "# Models which Requires Scaling and we can see that the performance of the below model increased after scaling.\n",
    "#MLA_SCAL = [\n",
    "    #SVM\n",
    "    #svm.SVC(probability=True, random_state=1),\n",
    "    \n",
    "#    ]"
   ]
  },
  {
   "cell_type": "code",
   "execution_count": 57,
   "id": "KVGBEqF9Bto1",
   "metadata": {
    "colab": {
     "base_uri": "https://localhost:8080/",
     "height": 802
    },
    "id": "KVGBEqF9Bto1",
    "outputId": "922463db-8674-4d47-9fe7-e85ad82c1bde"
   },
   "outputs": [
    {
     "name": "stdout",
     "output_type": "stream",
     "text": [
      "LogisticRegression\n",
      "Train Accuracy : 0.9580\n",
      "Test Accuracy : 0.9421\n",
      "Count of each category:\n",
      "1.0    3035\n",
      "0.0    3014\n",
      "2.0    2813\n",
      "dtype: int64\n",
      "--------------------------------------------------\n",
      "Classification Report:\n",
      "              precision    recall  f1-score   support\n",
      "\n",
      "         0.0       1.00      0.98      0.99      3014\n",
      "         1.0       0.93      0.90      0.91      3035\n",
      "         2.0       0.90      0.94      0.92      2813\n",
      "\n",
      "    accuracy                           0.94      8862\n",
      "   macro avg       0.94      0.94      0.94      8862\n",
      "weighted avg       0.94      0.94      0.94      8862\n",
      "\n",
      "--------------------------------------------------\n",
      "Confusion Matrix:\n",
      "Training Data\n",
      "[[11816     0     0]\n",
      " [  166 11166   484]\n",
      " [   10   828 10978]]\n",
      "Test Data\n",
      "[[2954    0    0]\n",
      " [  58 2739  157]\n",
      " [   2  296 2656]]\n"
     ]
    },
    {
     "data": {
      "image/png": "[encoded data removed]",
      "text/plain": [
       "<Figure size 432x288 with 4 Axes>"
      ]
     },
     "metadata": {
      "needs_background": "light"
     },
     "output_type": "display_data"
    }
   ],
   "source": [
    "\n",
    "\n",
    "alg = []\n",
    "train_acc = []\n",
    "test_acc = []\n",
    "rec = []\n",
    "pres = []\n",
    "f1 = []\n",
    "roc = []\n",
    "\n",
    "for clf in MLA:\n",
    "  alg_name = clf.__class__.__name__\n",
    "  alg.append(alg_name)\n",
    "  clf.fit(x_train, y_train)\n",
    "  y_pred = clf.predict(x_test)\n",
    "  y_pred_train = clf.predict(x_train)\n",
    "  train_acc.append(accuracy_score(y_train, y_pred_train))\n",
    "  test_acc.append(accuracy_score(y_test, y_pred))\n",
    "  rec.append(recall_score(y_test, y_pred,average='macro'))\n",
    "  pres.append(precision_score(y_test, y_pred,average='macro'))\n",
    "  f1.append(f1_score(y_test, y_pred,average='macro'))\n",
    "  print(alg_name)\n",
    "  evaluate_model(clf)\n",
    "\n",
    "MLA_df = pd.DataFrame({\n",
    "                      'alg':alg,\n",
    "                       'train_acc':train_acc,\n",
    "                      'test_acc':test_acc,\n",
    "                       'recall':rec,\n",
    "                       'pres': pres,\n",
    "                       'f1':f1\n",
    "                       })"
   ]
  },
  {
   "cell_type": "code",
   "execution_count": 58,
   "id": "o7Jln_nZCEab",
   "metadata": {
    "colab": {
     "base_uri": "https://localhost:8080/",
     "height": 81
    },
    "id": "o7Jln_nZCEab",
    "outputId": "b028753b-d4e1-4cbc-b274-7d473e2cb8ff"
   },
   "outputs": [
    {
     "data": {
      "text/html": [
       "<div>\n",
       "<style scoped>\n",
       "    .dataframe tbody tr th:only-of-type {\n",
       "        vertical-align: middle;\n",
       "    }\n",
       "\n",
       "    .dataframe tbody tr th {\n",
       "        vertical-align: top;\n",
       "    }\n",
       "\n",
       "    .dataframe thead th {\n",
       "        text-align: right;\n",
       "    }\n",
       "</style>\n",
       "<table border=\"1\" class=\"dataframe\">\n",
       "  <thead>\n",
       "    <tr style=\"text-align: right;\">\n",
       "      <th></th>\n",
       "      <th>alg</th>\n",
       "      <th>train_acc</th>\n",
       "      <th>test_acc</th>\n",
       "      <th>recall</th>\n",
       "      <th>pres</th>\n",
       "      <th>f1</th>\n",
       "    </tr>\n",
       "  </thead>\n",
       "  <tbody>\n",
       "    <tr>\n",
       "      <th>0</th>\n",
       "      <td>LogisticRegression</td>\n",
       "      <td>0.958023</td>\n",
       "      <td>0.942112</td>\n",
       "      <td>0.942112</td>\n",
       "      <td>0.942251</td>\n",
       "      <td>0.941909</td>\n",
       "    </tr>\n",
       "  </tbody>\n",
       "</table>\n",
       "</div>"
      ],
      "text/plain": [
       "                  alg  train_acc  test_acc    recall      pres        f1\n",
       "0  LogisticRegression   0.958023  0.942112  0.942112  0.942251  0.941909"
      ]
     },
     "execution_count": 58,
     "metadata": {},
     "output_type": "execute_result"
    }
   ],
   "source": [
    "MLA_df.sort_values(by='test_acc', ascending=False)\n"
   ]
  },
  {
   "cell_type": "markdown",
   "id": "u0bcO_8Di_Ur",
   "metadata": {
    "id": "u0bcO_8Di_Ur"
   },
   "source": [
    "### **Applying Scaling for classifiers**\n"
   ]
  },
  {
   "cell_type": "code",
   "execution_count": 59,
   "id": "gxquw-GMY-Xi",
   "metadata": {
    "id": "gxquw-GMY-Xi"
   },
   "outputs": [],
   "source": [
    "\n",
    "## apply standarization\n",
    "#x_train_scal = MinMaxScaler().fit_transform(x_train)\n",
    "#x_test_scal = MinMaxScaler().fit_transform(x_test)"
   ]
  },
  {
   "cell_type": "code",
   "execution_count": 60,
   "id": "AARGkzeMZFVE",
   "metadata": {
    "id": "AARGkzeMZFVE"
   },
   "outputs": [],
   "source": [
    "# Noow checking the performance after scaling\n",
    "\n",
    "#alg = []\n",
    "#train_acc = []\n",
    "#test_acc = []\n",
    "#rec = []\n",
    "#pres = []\n",
    "#f1 = []\n",
    "#roc = []\n",
    "\n",
    "#for clf in MLA_SCAL:\n",
    "  #alg_name = clf.__class__.__name__\n",
    "  #alg.append(alg_name)\n",
    "  #clf.fit(x_train_scal, y_train)\n",
    "  #y_pred = clf.predict(x_test_scal)\n",
    "  #y_pred_train = clf.predict(x_train_scal)\n",
    "  #train_acc.append(accuracy_score(y_train, y_pred_train))\n",
    "  #test_acc.append(accuracy_score(y_test, y_pred))\n",
    "  #rec.append(recall_score(y_test, y_pred,average='macro'))\n",
    "  #pres.append(precision_score(y_test, y_pred,average='macro'))\n",
    "  #f1.append(f1_score(y_test, y_pred,average='macro'))\n",
    "  #print(alg_name)\n",
    "  # evaluate_model(clf)\n",
    "\n",
    "#MLA_df_scal = pd.DataFrame({\n",
    "#                      'alg':alg,\n",
    "#                       'train_acc':train_acc,\n",
    "#                       'test_acc':test_acc,\n",
    "#                       'recall':rec,\n",
    "#                       'pres': pres,\n",
    "#                       'f1':f1})"
   ]
  },
  {
   "cell_type": "code",
   "execution_count": 61,
   "id": "19h1zDtOZUjS",
   "metadata": {
    "id": "19h1zDtOZUjS"
   },
   "outputs": [],
   "source": [
    "#MLA_df_scal.sort_values(by='test_acc', ascending=False)\n"
   ]
  },
  {
   "cell_type": "code",
   "execution_count": 62,
   "id": "wgK0hJ84o6MQ",
   "metadata": {
    "colab": {
     "base_uri": "https://localhost:8080/"
    },
    "id": "wgK0hJ84o6MQ",
    "outputId": "688ae237-e31c-435b-e90e-2110a57822e8"
   },
   "outputs": [],
   "source": [
    "# Selected Logistic Regression."
   ]
  },
  {
   "cell_type": "code",
   "execution_count": null,
   "id": "a4eI0nP0o509",
   "metadata": {
    "id": "a4eI0nP0o509"
   },
   "outputs": [],
   "source": []
  },
  {
   "cell_type": "code",
   "execution_count": 63,
   "id": "O49uJabH4NUj",
   "metadata": {
    "id": "O49uJabH4NUj"
   },
   "outputs": [],
   "source": [
    "import pickle\n",
    "from pickle import dump\n",
    "dump(LogisticRegression,open('model_sentiment.pkl','wb'))\n",
    "dump(tfidf,open('model_sentiment_tfidf.pkl','wb'))"
   ]
  },
  {
   "cell_type": "code",
   "execution_count": null,
   "id": "XMp3hn86o5uV",
   "metadata": {
    "id": "XMp3hn86o5uV"
   },
   "outputs": [],
   "source": []
  },
  {
   "cell_type": "code",
   "execution_count": null,
   "id": "JphZ9woUo5dr",
   "metadata": {
    "id": "JphZ9woUo5dr"
   },
   "outputs": [],
   "source": []
  },
  {
   "cell_type": "code",
   "execution_count": null,
   "id": "VpoFxKfRlfub",
   "metadata": {
    "id": "VpoFxKfRlfub"
   },
   "outputs": [],
   "source": []
  },
  {
   "cell_type": "code",
   "execution_count": null,
   "id": "x2_q4Bc4dS0b",
   "metadata": {
    "id": "x2_q4Bc4dS0b"
   },
   "outputs": [],
   "source": []
  },
  {
   "cell_type": "code",
   "execution_count": null,
   "id": "4dKdtp1Lw0Oz",
   "metadata": {
    "id": "4dKdtp1Lw0Oz"
   },
   "outputs": [],
   "source": []
  }
 ],
 "metadata": {
  "colab": {
   "provenance": []
  },
  "kernelspec": {
   "display_name": "Python 3 (ipykernel)",
   "language": "python",
   "name": "python3"
  },
  "language_info": {
   "codemirror_mode": {
    "name": "ipython",
    "version": 3
   },
   "file_extension": ".py",
   "mimetype": "text/x-python",
   "name": "python",
   "nbconvert_exporter": "python",
   "pygments_lexer": "ipython3",
   "version": "3.9.7"
  }
 },
 "nbformat": 4,
 "nbformat_minor": 5
}
